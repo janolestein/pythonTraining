{
 "cells": [
  {
   "cell_type": "markdown",
   "metadata": {},
   "source": [
    "# A Crash Course in Python 3 (V1.1)\n",
    "<sub>Prof. Dr. Stephan Salinger</sub>\n",
    "\n",
    "**Eine Weitergabe dieses Notebooks außerhalb des Moduls an der HTW Berlin ist strikt untersagt. Es enthält urheberrerchtlich geschütztes Material.**\n",
    "\n",
    "Es gibt im Netz eine große Anzahl von Tutorials zu Python 3, z.B.\n",
    "* das Tutorial von python.org : https://docs.python.org/3/tutorial/ oder\n",
    "* den deutschsprachiger Kurs von Bernd Klein, den es in erweiterter Form auch als Buch gibt: https://www.python-kurs.eu/python3_kurs.php\n",
    "\n",
    "Der vorliegende Kurs versucht sich auf wesentliche Punkte zu konzentrieren und diese als Jupyter Notebook zur Verfügung zu stellen. So können die Kodebeispiele gleich ausprobiert und verändert werden. Grundsätzliche Programmierkenntnisse werden nicht vermittelt. Vielmehr wird davon ausgegangen, dass die/der Leser_in bereits einschlägige Erfahrungen mit einer objetorientierten Programmiersprache gesammelt hat.\n",
    "\n",
    "Der Kurs orientiert sich an der Einführung \"A Crash Course in Python\" von Joel Grus im Buch \"Data Science from Scratch\" und verwendet Inhalte aus dieser Einführung. Das Buch sollte bei Fragen konsultiert werden. Es wurden aber auch ein ganze Reihe weiterer Quellen verwendet - insbesondere dann, wenn die Darstellungen über das hinaus gehen, was im Buch von Joel Grus erläutert wird. Sie sind an den entsprechenden Stellen angeben. \n",
    "\n",
    "Wenn Sie mit Python vertraut sind und den Kurs nicht durcharbeiten wollen, testen Sie bitte Ihre Kenntnisse anhand der Aufgaben im Abschnitt [Übungsaufgaben](#Ubungsaufgaben). Die Aufgaben sollten natürlich auch von denjenigen bearbeitet werden, die den Kurs durcharbeiten um Python zu lernen.\n",
    "\n",
    "**Achtung**: Die Code-Zellen bauen zum Teil aufeinander auf. Somit kommt z.T. nur dann das Richtige heraus, wenn sie in der vorgegebenen Reihenfolge ausgeführt werdem. Wenn Sie Probleme mit den Ergebnissen haben, führen Sie bitte im Menü *Cell->Run all* aus."
   ]
  },
  {
   "cell_type": "markdown",
   "metadata": {},
   "source": [
    "## Inhaltsverzeichnis <a class=\"anchor\" id=\"InhaltsverzeichnisVZ\"></a>\n",
    "\n",
    "Die mit einem Sternchen markierten Abschitte sind weniger relevant.\n",
    "\n",
    "* [Vorbemerkungen](#VorbemerkungenChap): Können beim ersten Durcharbeiten auch erst einmal übersprungen werden.\n",
    "* [Whitespace Formatting](#Whitespace_Formatting)\n",
    "* [Elementare Datentypen/Variablen](#Elementare_Datentypen)\n",
    "* [print()](#print())\n",
    "* [Die Rolle des Underscores in Python](#Die_Rolle_des_Underscores)\n",
    "* [Modules](#Modules)\n",
    "* [Functions](#Functions)\n",
    "* [Strings](#Strings)\n",
    "* [Exceptions](#Exceptions)\n",
    "* [Lists](#ListsChap)\n",
    "* [Tuples](#TuplesChap)\n",
    "* [Dictionaries](#DictionariesChap)\n",
    "* [Counter (*)](#CounterChap)\n",
    "* [Sets](#SetsChap)\n",
    "* [Kontrollfluß](#Kontrollfluß)\n",
    "* [Truthness](#Truthness)\n",
    "* [Sorting (Lists)](#Sorting_(Lists))\n",
    "* [List Comprehension](#List_Comprehension)\n",
    "* [Automatisches Testen + *assert*](#Automatisches_Testen_+_*assert*)\n",
    "* [Objektorientierung](#Objektorientierung)\n",
    "* [Pakete](#Pakete)\n",
    "* [Iterables and Generators](#Iterables_and_Generators)\n",
    "* [Randomness](#Randomness)\n",
    "* [zip und Argument Unpacking (*)](#zip_und_Argument_Unpacking)\n",
    "* [args und kwargs](#args_und_kwargs)\n",
    "* [Type Annotations](#Type_Annotations)\n",
    "* [Decorators](#Decorators)\n",
    "* [Monkey Patching](#Monkey_Patching)\n",
    "* [Sonstiges](#Sonstiges)\n",
    "* [Übungsaufgaben](#Ubungsaufgaben)"
   ]
  },
  {
   "cell_type": "markdown",
   "metadata": {},
   "source": [
    "## Vorbemerkungen <a class=\"anchor\" id=\"VorbemerkungenChap\"></a>\n",
    "Die Vorbemerkungen sind nicht unbedingt notwendig, um den Rest des Kurses zu verstehen. Sie geben einige hilfreiche Infos zum Umgang mit Python 3 und Jupyter.\n",
    "\n",
    "**Achtung**: Der eigentliche Kurs geht im Abschnitt **[Whitespace Formatting](#Whitespace_Formatting)** los."
   ]
  },
  {
   "cell_type": "markdown",
   "metadata": {},
   "source": [
    "### 1. Vorbemerkung: Löschen aller gesetzten Variablen\n",
    "Manchmal möchte man alle gesetzten Variablen löschen. Dann kann man die Magic-Anweisung %reset verwenden (mehr zu Magics in Notebooks findet man z.B. hier: https://www.aboutdatablog.com/post/top-8-magic-commands-in-jupyter-notebook):\n",
    "* https://gist.github.com/stsievert/8655158355b7155b2dd8: At the IPython prompt, %reset clears everything -- it's like you're starting up the shell again. \n",
    "    * **Achtung**: https://de.wikipedia.org/wiki/IPython: IPython ist ein Kommandozeileninterpreter zum interaktiven Arbeiten mit der Programmiersprache Python. [...] Beginnend mit Version 4.0 wurde das Projekt insgesamt aufgeteilt und weiter modularisiert. IPython wird fortan nicht länger als einzelnes, monolithisches Paket vertrieben, sondern begrenzt sich nun auf die an Python gebundenen Kernkomponenten. Sämtliche sprachunabhängige Module (wie das Notebook, die Qtconsole und die Messagequeue) wurden dagegen in ein neues Projekt namens Jupyter ausgelagert und können so zukünftig auch unabhängig von IPython genutzt und aktualisiert werden."
   ]
  },
  {
   "cell_type": "code",
   "execution_count": 3,
   "metadata": {},
   "outputs": [
    {
     "name": "stdout",
     "output_type": "stream",
     "text": [
      "10\n"
     ]
    }
   ],
   "source": [
    "#1. Beispiel: %reset entfernt eigene Variablen\n",
    "\n",
    "test = 10\n",
    "print(test)\n",
    "\n",
    "#%reset\n",
    "#print(test)\n",
    "\n",
    "#Ausgabe bei test = 10, %reset und nachfolgendem print(test):\n",
    "#Once deleted, variables cannot be recovered. Proceed (y/[n])? y\n",
    "#---------------------------------------------------------------------------\n",
    "#NameError                                 Traceback (most recent call last)\n",
    "#Input In [593], in <cell line: 4>()\n",
    "#      2 print(test)\n",
    "#      3 get_ipython().run_line_magic('reset', '')\n",
    "#----> 4 print(test)\n",
    "#\n",
    "#NameError: name 'test' is not defined"
   ]
  },
  {
   "cell_type": "code",
   "execution_count": 4,
   "metadata": {},
   "outputs": [
    {
     "name": "stdout",
     "output_type": "stream",
     "text": [
      "deque([1, 2, 3])\n"
     ]
    }
   ],
   "source": [
    "#2. Beispiel: %reset entfernt Importe \n",
    "\n",
    "import collections\n",
    "nums = [1, 2, 3]\n",
    "# creating deque collection from the list\n",
    "deque = collections.deque(nums)\n",
    "\n",
    "print(deque)\n",
    "\n",
    "#%reset\n",
    "#deque = collections.deque(nums)\n",
    "\n",
    "#Ausgabe bei import collections, %reset und nachfolgendem deque = collections.deque(nums):\n",
    "#Once deleted, variables cannot be recovered. Proceed (y/[n])? y\n",
    "#---------------------------------------------------------------------------\n",
    "#NameError                                 Traceback (most recent call last)\n",
    "#Input In [597], in <cell line: 11>()\n",
    "#      8 print(deque)\n",
    "#     10 get_ipython().run_line_magic('reset', '')\n",
    "#---> 11 deque = collections.deque(nums)\n",
    "#\n",
    "#NameError: name 'collections' is not defined\n"
   ]
  },
  {
   "cell_type": "markdown",
   "metadata": {},
   "source": [
    "#### Menüpunkt Kernel->Restart\n",
    "Über den Menüpunkt Kernel->Restart von Jupyter können der Kernel zurückgesetzt und somit auch alle Variablen zurückgesetzt werden."
   ]
  },
  {
   "cell_type": "markdown",
   "metadata": {},
   "source": [
    "### 2. Vorbemerkung: Virtual Environments mittels Anaconda\n",
    "\n",
    "Im Buch von Joel Grus wird empfohlen mittels Anaconda ein sogenanntes *Environment* anzulegen. Dies ist für die ersten Schritte mit Python *nicht* notwendig.\n",
    "\n",
    "Nach \"A Guide to Python’s Virtual Environments\" (https://towardsdatascience.com/virtual-environments-104c62d48c54) bieten *Environments* folgende Vorteile:\n",
    "> * *Resolve dependency issues by allowing you to use different versions of a package for different projects. For example, you could use Package A v2.7 for Project X and Package A v1.3 for Project Y.*\n",
    "> * *Make your project self-contained and reproducible by capturing all package dependencies in a requirements file.*\n",
    "> * *Install packages on a host on which you do not have admin privileges.*\n",
    "> * *Keep your global site-packages/ directory tidy by removing the need to install packages system-wide which you might only need for one project.*\n",
    "\n",
    "**Es stellt sich die Frage, wie man bei der Verwendung von *Jupyter Notebooks* *Environments* zum Einsatz bringen kann?**\n",
    "\n",
    "Hier hilft die Doku \"Using Virtual Environments in Jupyter Notebook and Python\" (https://janakiev.com/blog/jupyter-virtual-envs/):\n",
    "> * ***Vorbemerkung***: *Since Python 3.3, a subset of virtualenv has been integrated in the Python standard library under the venv module.\n",
    "> * ***Add Virtual Environment to Jupyter Notebook***: Siehe Link oben. Ich verzichte allerdings erst einmal darauf, ein *Environment* einzurichten und schau' mal wie weit ich so komme. \n"
   ]
  },
  {
   "cell_type": "markdown",
   "metadata": {},
   "source": [
    "### 3. Editoren/IDEs\n",
    "Dieser Kurs wurde als jupyter Notebook erstellt. Für die im Rahmen des Moduls zu erstellende Software sollte aber ein Editor bzw. eine IDE verwendet werden. Es bleibt Ihnen überlassen, welchen Editor bzw. welche IDE Sie verwenden möchten. Es wird allerdings PyCharm Professional von JetBrains empfohlen. Lernende und Lehrende können diese IDE kostenfrei nutzen - siehe z.B. https://www.jetbrains.com/de-de/store/#discounts."
   ]
  },
  {
   "cell_type": "markdown",
   "metadata": {},
   "source": [
    "### 4. Vorbemerkung: Einsatz unterschiedlicher Klammern\n",
    "\n",
    "Die in diesem Abschnitt erwähnten Datentypen wie z.B. Dictionaries werden später im Detail erläutert. Hier geht es erst einmal nur darum, welche Klammern in welchem Zusammenhang angewendet werden.\n",
    "\n",
    "#### Runde Klammern\n",
    "##### Funktionen"
   ]
  },
  {
   "cell_type": "code",
   "execution_count": 5,
   "metadata": {},
   "outputs": [
    {
     "name": "stdout",
     "output_type": "stream",
     "text": [
      "aaa\n"
     ]
    }
   ],
   "source": [
    "print(\"aaa\")        # Funktionsaufruf: Parameter\n",
    "def itent(v,w):     # Funktionsdefinition: Parameter\n",
    "    return v"
   ]
  },
  {
   "cell_type": "markdown",
   "metadata": {},
   "source": [
    "##### Tupel"
   ]
  },
  {
   "cell_type": "code",
   "execution_count": 6,
   "metadata": {},
   "outputs": [],
   "source": [
    "my_tuple = (1,2) # Definition von Tupeln - Klammern können aber auch weggelassen werden"
   ]
  },
  {
   "cell_type": "markdown",
   "metadata": {},
   "source": [
    "#### Eckige Klammern\n",
    "##### Listen"
   ]
  },
  {
   "cell_type": "code",
   "execution_count": 7,
   "metadata": {},
   "outputs": [
    {
     "name": "stdout",
     "output_type": "stream",
     "text": [
      "<class 'int'>\n",
      "<class 'list'>\n",
      "[3]\n",
      "<class 'list'>\n"
     ]
    }
   ],
   "source": [
    "integer_list = [1,2,3]           # Definition von Listen (lists)\n",
    "short_il = integer_list[0]      # Zugriff auf einzelne Elemente einer Liste -> Elementtyp\n",
    "print(type(short_il))\n",
    "part1_il = integer_list[:3]      # Zugriff auf Teillisten (Slices) -> list \n",
    "part2_il = integer_list[2:3]\n",
    "print(type(part1_il))\n",
    "print(part2_il)\n",
    "print(type(part2_il))"
   ]
  },
  {
   "cell_type": "markdown",
   "metadata": {},
   "source": [
    "##### *Dictionaries* (nur beim Zugriff auf einzelne Einträge)"
   ]
  },
  {
   "cell_type": "code",
   "execution_count": 8,
   "metadata": {},
   "outputs": [
    {
     "data": {
      "text/plain": [
       "99"
      ]
     },
     "execution_count": 8,
     "metadata": {},
     "output_type": "execute_result"
    }
   ],
   "source": [
    "my_dict = {}\n",
    "my_dict[\"Tim\"] = 99 # Setzen von einzelnen Values über den Key - auch bei neuen Keys\n",
    "my_dict[\"Tim\"]      # Lesen von einzelnen Values über den Key"
   ]
  },
  {
   "cell_type": "markdown",
   "metadata": {},
   "source": [
    "#### Geschweifte Klammern\n",
    "##### *Dictionaries* "
   ]
  },
  {
   "cell_type": "code",
   "execution_count": 9,
   "metadata": {},
   "outputs": [
    {
     "name": "stdout",
     "output_type": "stream",
     "text": [
      "<class 'dict'>\n"
     ]
    }
   ],
   "source": [
    "empty_dict= {}                   # Definition eines leeren Dictionaries\n",
    "grades = {\"Joel\": 80, \"Tim\": 95} # Definition eines Dictionaries\n",
    "                                 # Setzen einzelner Elemente: Siehe \"Eckige Klammern\"\n",
    "print(type(grades))"
   ]
  },
  {
   "cell_type": "markdown",
   "metadata": {},
   "source": [
    "##### Sets"
   ]
  },
  {
   "cell_type": "code",
   "execution_count": 10,
   "metadata": {},
   "outputs": [],
   "source": [
    "prime_below_10 = {2,3,5,7} # Definition eines Sets"
   ]
  },
  {
   "cell_type": "markdown",
   "metadata": {},
   "source": [
    "Zum [Inhaltsverzeichnis](#InhaltsverzeichnisVZ)"
   ]
  },
  {
   "cell_type": "markdown",
   "metadata": {},
   "source": [
    "## Whitespace Formatting <a class=\"anchor\" id=\"Whitespace_Formatting\"></a>\n",
    "* Python benutzt keine Klammern sondern Einrückungen um Code-Blöcke festzulegen.\n",
    "* Leerzeilen signalisieren das Ende eines Blocks"
   ]
  },
  {
   "cell_type": "code",
   "execution_count": 11,
   "metadata": {},
   "outputs": [
    {
     "name": "stdout",
     "output_type": "stream",
     "text": [
      "1\n",
      "1 2 2 3 3 4 4 5 5 6 1\n",
      "2\n",
      "1 3 2 4 3 5 4 6 5 7 2\n",
      "3\n",
      "1 4 2 5 3 6 4 7 5 8 3\n",
      "4\n",
      "1 5 2 6 3 7 4 8 5 9 4\n",
      "5\n",
      "1 6 2 7 3 8 4 9 5 10 5\n",
      "done looping\n"
     ]
    }
   ],
   "source": [
    "# Kommentare werden derart formatiert\n",
    "for i in [1,2,3,4,5]:\n",
    "    print(i) # Die vier Blanks (= 1 Tab) hat der Notebook-Editor automatisch erzeugt\n",
    "    for j in [1,2,3,4,5]:\n",
    "        print(j, end=' ') # Die vier Blanks hat der Notebook-Editor automatisch erzeugt\n",
    "        print(i + j, end=' ')\n",
    "    print(i) # Auf dem Mac springt man z.B. mit Shift+Tab zurück\n",
    "print('done looping')"
   ]
  },
  {
   "cell_type": "markdown",
   "metadata": {},
   "source": [
    "In Klammern werden *Whitespaces* ignoriert. Z.B.:"
   ]
  },
  {
   "cell_type": "code",
   "execution_count": 12,
   "metadata": {},
   "outputs": [],
   "source": [
    "easier_to_read_list_of_lists = [[1,2,3],\n",
    "                               [4,5,6],\n",
    "                               [7,8,9]] #Der Notebook-Editor nimmt Einrückungen nach Return automatisch vor\n",
    "two_pus_three = 2 + \\\n",
    "                3 # Der Backslash zeigt an, dass es in der nächsten Zeile weiter geht.\n",
    "                  # Nach dem Backslash darf kein Zeichen mehr folgen."
   ]
  },
  {
   "cell_type": "markdown",
   "metadata": {},
   "source": [
    "Zum [Inhaltsverzeichnis](#InhaltsverzeichnisVZ)"
   ]
  },
  {
   "cell_type": "markdown",
   "metadata": {},
   "source": [
    "## Elementare Datentypen/Variablen <a class=\"anchor\" id=\"Elementare_Datentypen\"></a>\n",
    "Auch elementare Datentypen sind in Python 3 Klassen.\n",
    "* Weitere Informationen zu Datentypen, die Python mitbringt, also auch zu elementaren Datentypen finden sich z.B. hier: https://docs.python.org/3/library/stdtypes.html\n",
    "\n",
    "**Achtung**: Die hier für die Ausgabe verwendeten f-Strings (z.B. *f\"x = 3 -> Typ: {type(x)}\"*) werden erst weiter unten erläutert - siehe [Strings](#Strings)."
   ]
  },
  {
   "cell_type": "code",
   "execution_count": 13,
   "metadata": {},
   "outputs": [
    {
     "name": "stdout",
     "output_type": "stream",
     "text": [
      "x = 3 -> Typ: <class 'int'>\n",
      "x = 3.0 -> Typ: <class 'float'>\n",
      "x = 1+2j -> Typ: <class 'complex'>\n",
      "x.real = 1.0 -> Typ: <class 'float'>\n",
      "x.imag = 2.0 -> Typ: <class 'float'>\n",
      "bool(0): False\n",
      "bool(0): <class 'bool'>\n",
      "bool(1): True\n",
      "bool(1): <class 'bool'>\n",
      "x='a' -> Typ: <class 'str'>\n"
     ]
    }
   ],
   "source": [
    "#Bestimmung der Typen von Variablen mittels der Funktion type\n",
    "#Ausgegeben werden die mittels print (siehe weiter unten)\n",
    "#unter Verwendung von sogenannten f-Strings (siehe weiter unten)\n",
    "\n",
    "x=3\n",
    "print(f\"x = 3 -> Typ: {type(x)}\")\n",
    "\n",
    "x=3.0\n",
    "print(f\"x = 3.0 -> Typ: {type(x)}\")\n",
    "\n",
    "x=1+2j\n",
    "print(f\"x = 1+2j -> Typ: {type(x)}\")\n",
    "\n",
    "print(f\"x.real = {x.real} -> Typ: {type(x.real)}\")\n",
    "\n",
    "print(f\"x.imag = {x.imag} -> Typ: {type(x.imag)}\")\n",
    "\n",
    "\n",
    "print(f\"bool(0): {bool(0)}\")\n",
    "print(f\"bool(0): {type(bool(0))}\")\n",
    "\n",
    "print(f\"bool(1): {bool(1)}\")\n",
    "print(f\"bool(1): {type(bool(1))}\")\n",
    "\n",
    "x='a'\n",
    "print(f\"x='a' -> Typ: {type(x)}\") #Es gibt keinen Character-Datentyp, \"nur\" Strings (siehe weiter unten)\n"
   ]
  },
  {
   "cell_type": "markdown",
   "metadata": {},
   "source": [
    "### Umwandlung zwischen numerischen Datentypen"
   ]
  },
  {
   "cell_type": "code",
   "execution_count": 14,
   "metadata": {},
   "outputs": [
    {
     "name": "stdout",
     "output_type": "stream",
     "text": [
      "3.0\n",
      "3\n",
      "(3.9+0j)\n",
      "True\n",
      "3.9\n",
      "12345678901234567890123456789012345678901234567890123456789012345678901234567890\n",
      "<class 'str'>\n",
      "12345678901234567890123456789012345678901234567890123456789012345678901234567890\n",
      "<class 'int'>\n"
     ]
    }
   ],
   "source": [
    "x=3\n",
    "print(float(x)) #3.0\n",
    "\n",
    "x=3.9\n",
    "print(int(x)) # 3\n",
    "\n",
    "print(complex(x)) # (3.9+0j)\n",
    "\n",
    "print(bool(x)) # True\n",
    "\n",
    "print(float(x)) # 3.9\n",
    "\n",
    "a_string = \"12345678901234567890123456789012345678901234567890123456789012345678901234567890\"\n",
    "print(a_string)\n",
    "print(type(a_string))\n",
    "  \n",
    "# Converting to int\n",
    "a_int = int(a_string)\n",
    "print(a_int)\n",
    "print(type(a_int))"
   ]
  },
  {
   "cell_type": "markdown",
   "metadata": {},
   "source": [
    "### Variablen\n",
    "* https://www.w3schools.com/python/ref_func_id.asp:\n",
    "    * The **id()** function returns a unique id for the specified object.\n",
    "    * All objects in Python has its own unique id.\n",
    "    * The id is assigned to the object when it is created.\n",
    "    * The id is the object's memory address, and will be different for each time you run the program.\n",
    "* Python zeigt allerdings diesbezüglich ein im Vergleich zu manch anderen Programmiersprchen (wie z.B. C oder Java) ungwöhnliches Verhalten beim Zuweisen und Kopieren von Objekten - unter anderem auch beim Zuweisen und Kopieren einfacher Datentypen wie Ganzzahlen und Zeichenfolgen:"
   ]
  },
  {
   "cell_type": "code",
   "execution_count": 15,
   "metadata": {},
   "outputs": [
    {
     "name": "stdout",
     "output_type": "stream",
     "text": [
      "140243701393808\n",
      "140243701393808\n",
      "5\n",
      "4\n",
      "140243701393840\n",
      "140243701393808\n"
     ]
    }
   ],
   "source": [
    "x = 4 #Achtung: x ist ein Objekt\n",
    "y = x #Achtung: y ist ein Objekt\n",
    "\n",
    "print(id(x))\n",
    "print(id(y))\n",
    "\n",
    "x = 5\n",
    "\n",
    "print(x)\n",
    "print(y)\n",
    "\n",
    "print(id(x))\n",
    "print(id(y))"
   ]
  },
  {
   "cell_type": "markdown",
   "metadata": {},
   "source": [
    "Der Grund für dieses Verhalten erklärt sich wie folgt (nach https://www.python-kurs.eu/python3_variablen.php):\n",
    "* Variablen in Python bezeichnen keinen bestimmten Typ und deshalb benötigt man auch in Python keine Typdeklaration.\n",
    "* Variablen enstehen durch Zuweisungen und können durch solche verändert werden - z.B. x = 4\n",
    "* Variablen referenzieren Objekte in Python. Die eigentlichen Daten sind jedoch im Objekt enthalten. So kann eine Variable auf ein int-Objekt und später auf ein String-Objekt zeigen.\n",
    "* Da Variablen Objekte referenzieren und Objekte einen beliebigen Datentyp haben können, ist es nicht möglich, Variablen mit Datentypen zu verknüpfen. Dies ist ein riesiger Unterschied zu C, C++ oder Java, wo Variablen fest mit einem Datentyp assoziiert sind. Diese Verknüpfung gilt solange das Programm läuft.\n",
    "* Legen wir ein Integer-Objekt 4 an und weisen dieses der Variablen x zu und weisen wir danach x der Variablen y zu, führt das dazu, dass nun beide Variablen dasselbe Objekt referenzieren.\n",
    "* Was wird passieren, wenn wir nun die Zuweisung x = 5 ausführen? Python wird zuerst ein neues Integer-Objekt mit dem Inhalt 5 erzeugen und dann wird die Referenz von x auf dieses Objekt geändert. x und y zeigen nun auf unterschiedliche Objekte."
   ]
  },
  {
   "cell_type": "markdown",
   "metadata": {},
   "source": [
    "Zum [Inhaltsverzeichnis](#InhaltsverzeichnisVZ)"
   ]
  },
  {
   "cell_type": "markdown",
   "metadata": {},
   "source": [
    "## print() <a class=\"anchor\" id=\"print()\"></a>\n",
    "* Nach https://www.python-kurs.eu/python3_print.php:\n",
    "    * \"print\" ist in Python3 eine Funktion und keine Anweisung mehr wie dies vorher der Fall war, und deshalb müssen die Argumente, wie bei jeder anderen Funktion auch, innerhalb von einem Klammernpaar stehen.\n",
    "    * Das Aufrufverhalten der print-Funktion ist wie folgt in Python3 definiert:\n",
    "        * *print(value1, ..., sep=' ', end='\\n', file=sys.stdout, flush=False)*\n",
    "    * Die print-Funktion druckt beliebig viele Werte (\"value1, value2, ...\") aus, die durch Komma getrennt sind. Bei der Ausgabe werden die Werte standardmäßig durch Leerzeichen getrennt. "
   ]
  },
  {
   "cell_type": "code",
   "execution_count": 16,
   "metadata": {},
   "outputs": [
    {
     "name": "stdout",
     "output_type": "stream",
     "text": [
      "a =  3.564\n"
     ]
    }
   ],
   "source": [
    "a= 3.564\n",
    "print(\"a = \", a)"
   ]
  },
  {
   "cell_type": "markdown",
   "metadata": {},
   "source": [
    "* Die Ausgabe der print-Funktion wird in einen Datenstrom (engl. stream) geleitet. Standardmäßig wird dazu die Standardausgabe benutzt, also \"sys.stdout\". Mit dem Schlüsselwort \"file\" sind wir schließlich in der Lage die Ausgabe in eine Datei umzuleiten."
   ]
  },
  {
   "cell_type": "code",
   "execution_count": 17,
   "metadata": {},
   "outputs": [],
   "source": [
    "fh = open(\"daten.txt\",\"w\")\n",
    "print(\"42 ist die Antwort, aber was ist die Frage?\", file=fh)\n",
    "fh.close()"
   ]
  },
  {
   "cell_type": "markdown",
   "metadata": {},
   "source": [
    "Eine ausführiche Beschreibung zu print() findet sich z.B. hier: https://realpython.com/python-print/\n",
    "\n",
    "Zum [Inhaltsverzeichnis](#InhaltsverzeichnisVZ)"
   ]
  },
  {
   "cell_type": "markdown",
   "metadata": {},
   "source": [
    "## Die Rolle des Underscores in Python <a class=\"anchor\" id=\"Die_Rolle_des_Underscores\"></a>\n",
    "* Im Phython-Interpreter (Console) ist in der Variabel *_* (Underscore) der Wert des letzten Ausdrucks gespeichert.\n",
    "    * **Achtung**: In IPython (und somit in Jupyter Notebook) ist dieses Verhalten komplizierter! Wir gehen hier nicht weiter darauf ein. Interessierte können z.B. folgenden Link nutzen: https://sodocumentation.net/ipython/topic/10536/ipython-shortcuts--tips-and-tricks\n",
    "* Ein Underscore kann verwendet werden, um Werte zu ignorieren:"
   ]
  },
  {
   "cell_type": "code",
   "execution_count": 18,
   "metadata": {},
   "outputs": [
    {
     "name": "stdout",
     "output_type": "stream",
     "text": [
      "Test\n",
      "Test\n",
      "Test\n",
      "1\n",
      "5\n",
      "4\n"
     ]
    }
   ],
   "source": [
    "for _ in [1,2,3]:\n",
    "    print (\"Test\")\n",
    " \n",
    "a,_,_,_,b = [1,2,3,4,5] #Auspacken einer Liste (siehe weiter unten), bei dem die beiden mittleren Werte ignoriert werden\n",
    "\n",
    "print(a)\n",
    "print(b)\n",
    "print(_) # =4 - allerdings in IPython (und somit in Jupyter Notebook) nicht immer unbedingt"
   ]
  },
  {
   "cell_type": "markdown",
   "metadata": {},
   "source": [
    "### Weiteres zu einfachen und doppelten Underscores\n",
    "\n",
    "* Für Weiteres zu Underscores siehe z.B. https://towardsdatascience.com/whats-the-meaning-of-single-and-double-underscores-in-python-3d27d57d6bd1\n",
    "* Hier sei nur noch auf folgende spezielle Variablen mit doppelten Underscores am Anfang und am Ende hingewiesen, z.B.\n",
    "    * \\_\\_name\\_\\_: *Python's \\_\\_name\\_\\_ special variable stores the name of the currently running Python script or module.* (https://www.javatpoint.com/__name__-in-python)"
   ]
  },
  {
   "cell_type": "code",
   "execution_count": 19,
   "metadata": {},
   "outputs": [
    {
     "name": "stdout",
     "output_type": "stream",
     "text": [
      "__main__\n"
     ]
    }
   ],
   "source": [
    "print(__name__)"
   ]
  },
  {
   "cell_type": "markdown",
   "metadata": {},
   "source": [
    "Zum [Inhaltsverzeichnis](#InhaltsverzeichnisVZ)"
   ]
  },
  {
   "cell_type": "markdown",
   "metadata": {},
   "source": [
    "## Modules <a class=\"anchor\" id=\"Modules\"></a>\n",
    "* Einige Features (eingebaute sowie solche von Dritten) werden von Python nicht per default geladen.\n",
    "* Es ist notwendig diese zu importieren.\n",
    "\n",
    "### Vorbemerkung\n",
    "* https://www.grund-wissen.de/informatik/python/module-und-pakete.html\n",
    "    * In der Praxis werden Module [...] in erster Linie verwendet, um den Quellcode eines umfangreicheren Software Projekts leichter zu organisieren und übersichtlich zu halten. Eine grobe Regel besagt, dass ein Modul nur so umfangreich sein sollte, dass sich seine Inhalte und sein Verwendungszweck mit ein bis zwei Sätzen zusammenfassen lassen sollten.\n",
    "    * Jedes Modul stellt einen eigenen Namensraum für Variablen dar, so dass gleichnamige Funktionen, die in unterschiedlichen Modulen definiert sind, keine Konflikte verursachen.\n",
    "    * Modulnamen werden in Python allgemein in Kleinbuchstaben geschrieben. Um in das aktuelle Programm ein externes Modul, also eine andere .py-Datei, zu integrieren, wird ein *import* verwendet.\n",
    "\n",
    "Nach dem Importieren eines Moduls (hier mit dem Namen *modulname*) können die im Modul definierten Klassen, Funktionen und Variablen z.B. mit folgender Syntax aufgerufen werden(für Details siehe weiter unten):\n",
    "\n",
    "    modulname.Klassenname\n",
    "    modulname.variablenname\n",
    "    modulname.funktionsname()\n",
    "    \n",
    "### Hintergrund\n",
    "Nach https://py-tutorial-de.readthedocs.io/de/python-3.3/modules.html:\n",
    "* Ein Modul ist eine Datei, die Python-Definitionen und -Anweisungen beinhaltet. Der Dateiname mit dem .py-Suffix entspricht dem Namen des Moduls. Innerhalb eines Moduls ist der Modulname als *\\_\\_name\\_\\_* verfügbar (globale Variable des Typs String).\n",
    "* Ein Modul kann sowohl ausführbare Anweisungen, als auch Definitionen einer Funktion enthalten. Diese Anweisungen sind dazu gedacht, das Modul zu initialisieren, und werden nur ausgeführt, wenn das Modul zum ersten Mal importiert wird.\n",
    "* Jedes Modul hat seine eigene, private Symboltabelle, welche wiederum als globale Symboltabelle von allen Funktion in diesem Modul verwendet wird. Daher kann der Verfasser eines Moduls ohne Bedenken globale Variablen in seinem Modul verwenden, da sie sich nicht mit den globalen Variablen des Benutzers überschneiden können.\n",
    "* Module können andere Module importieren. Es ist üblich, aber nicht zwingend notwendig, dass man alle import-Anweisungen an den Anfang eines Moduls setzt (oder in diesem Fall Skripts). Die Namen der importierten Module werden in die Symboltabelle des importierenden Moduls eingefügt.\n",
    "\n",
    "### Ein ganzes Modul importieren\n",
    "* Das gesamte Modul wird importiert\n",
    "* Der Zugriff auf Teile (z.B. Funktionen) des Moduls muss über den Namen des Moduls erfolgen."
   ]
  },
  {
   "cell_type": "code",
   "execution_count": 20,
   "metadata": {},
   "outputs": [],
   "source": [
    "import re #Modul mit Funktionen und Konstanten für reguläre Ausdrücke\n",
    "my_regex = re.compile(\"[0-9]+\", re.I)"
   ]
  },
  {
   "cell_type": "markdown",
   "metadata": {},
   "source": [
    "* Über einen Alias:\n",
    "        import re as regex\n",
    "        import matplotlib.pyplot as plt # Vidualisierung von Daten mit matplotlib\n",
    "        plt.plot(...)"
   ]
  },
  {
   "cell_type": "markdown",
   "metadata": {},
   "source": [
    "### Teile eines Moduls importieren"
   ]
  },
  {
   "cell_type": "code",
   "execution_count": 21,
   "metadata": {},
   "outputs": [],
   "source": [
    "from collections import defaultdict, Counter\n",
    "lookup = defaultdict(int)\n",
    "my_counter = Counter()"
   ]
  },
  {
   "cell_type": "markdown",
   "metadata": {},
   "source": [
    "### BAD: *-Import eines Moduls"
   ]
  },
  {
   "cell_type": "code",
   "execution_count": 22,
   "metadata": {},
   "outputs": [
    {
     "data": {
      "image/png": "[encoded data removed]",
      "text/plain": [
       "<Figure size 720x504 with 1 Axes>"
      ]
     },
     "metadata": {
      "needs_background": "light"
     },
     "output_type": "display_data"
    }
   ],
   "source": [
    "#Don't do this (Viele Funktionen! Evtl. werden vorhandenen überschrieben!):\n",
    "#from matplotlib.pyplot import *\n",
    "\n",
    "#Do that:\n",
    "import matplotlib.pyplot as plt\n",
    "\n",
    "import numpy as np\n",
    "\n",
    "# Creating dataset\n",
    "np.random.seed(10)\n",
    "data = np.random.normal(100, 20, 200)\n",
    "\n",
    "#If you had done: from matplotlib.pyplot import * : BAD\n",
    "#fig = figure(figsize =(10, 7))\n",
    "#Better:\n",
    "fig = plt.figure(figsize =(10, 7))\n",
    " \n",
    "# Creating plot\n",
    "#If you had done: from matplotlib.pyplot import * : BAD\n",
    "#boxplot(data)\n",
    "#Better:\n",
    "plt.boxplot(data)\n",
    " \n",
    "# show plot\n",
    "#If you had done: from matplotlib.pyplot import * : BAD\n",
    "#show()\n",
    "#Better:\n",
    "plt.show()"
   ]
  },
  {
   "cell_type": "markdown",
   "metadata": {},
   "source": [
    "* Beachte, dass der *-Import eines Moduls oder Paketes im allgemeinen verpönt ist, da er oft schlecht lesbaren Code verursacht. Allerdings ist es in Ordnung ihn im interaktiven Interpreter zu benutzen, um weniger tippen zu müssen.\n",
    "\n",
    "Zum [Inhaltsverzeichnis](#InhaltsverzeichnisVZ)"
   ]
  },
  {
   "cell_type": "markdown",
   "metadata": {},
   "source": [
    "## Functions <a class=\"anchor\" id=\"Functions\"></a>\n",
    "* **Benennung von Funktionen** nach https://www.grund-wissen.de/informatik/python/funktionen.html:\n",
    "    * Zum Benennen von Funktionen werden in Python üblicherweise nur kleine Buchstaben verwendet. Häufig besteht ein Funktionsname aus einem Verb, das die Wirkungsweise der Funktion beschreibt; liegt jedoch der Zweck einer Funktion nur darin, einen bestimmten Wert auszugeben, so kann der Funktionsname auch aus einem Substantiv bestehen, das den jeweiligen Wert beschreibt – beispielsweise wird die Wurzelfunktion meist mit sqrt() („square root“) anstelle von calculate_sqrt() bezeichnet. Besteht ein Funktionsname aus mehreren Wörtern, so werden diese zur besseren Lesbarkeit mittels Unterstrichen getrennt."
   ]
  },
  {
   "cell_type": "markdown",
   "metadata": {},
   "source": [
    "### Definition von Funktionen"
   ]
  },
  {
   "cell_type": "code",
   "execution_count": 23,
   "metadata": {},
   "outputs": [],
   "source": [
    "def double(x):\n",
    "    \"\"\"\n",
    "    Platz für die Beschreibung der Methode: Was tut sie.\n",
    "    Hier z.B.: Der Output ist dopplet so groß wie der Input\n",
    "    \"\"\"\n",
    "    return x * 2"
   ]
  },
  {
   "cell_type": "markdown",
   "metadata": {},
   "source": [
    "Python-Funktionen sind ***first-class***:\n",
    "* Nach \"Python’s Functions Are First-Class\" (https://dbader.org/blog/python-first-class-functions):\n",
    "> * *Python’s functions are first-class objects. You can assign them to variables, store them in data structures, pass them as arguments to other functions, and even return them as values from other functions.*"
   ]
  },
  {
   "cell_type": "code",
   "execution_count": 24,
   "metadata": {},
   "outputs": [
    {
     "data": {
      "text/plain": [
       "2"
      ]
     },
     "execution_count": 24,
     "metadata": {},
     "output_type": "execute_result"
    }
   ],
   "source": [
    "def apply_to_one(f):\n",
    "    \"\"\"Calls the function f with 1 as its argument\"\"\"\n",
    "    return f(1)\n",
    "\n",
    "my_double = double\n",
    "x = apply_to_one(my_double)\n",
    "x # print(x)"
   ]
  },
  {
   "cell_type": "markdown",
   "metadata": {},
   "source": [
    "### Anonyme Funktionen/*lambdas*"
   ]
  },
  {
   "cell_type": "markdown",
   "metadata": {},
   "source": [
    "* Anonyme Funktion nach Wikipedia.de (https://de.wikipedia.org/wiki/Anonyme_Funktion (08.11.2020)):\n",
    "> * *Eine **anonyme Funktion** (**Funktionsliteral**, **Lambdafunktion** oder **Lambdaausdruck**) ist eine Funktionsdefinition, die nicht an einen Bezeichner gebunden ist.*\n",
    "> * *Anonyme Funktionen werden häufig als Argumente an Funktionen höherer Ordnung übergeben oder zum Erstellen des Ergebnisses einer Funktion höherer Ordnung verwendet, die eine Funktion zurückgeben muss. Wenn eine Funktion nur an einer Stelle verwendet wird und einen begrenzten Umfang hat, kann eine anonyme Funktion syntaktisch einfacher sein als die Verwendung einer benannten Funktion. Anonyme Funktionen sind in funktionalen Programmiersprachen und anderen Sprachen mit First-Class-Funktionen allgegenwärtig, wo sie für den Funktionstyp dieselbe Rolle erfüllen wie Literale für andere Datentypen.*\n",
    "\n",
    "Das zu verwendende Schlüsselwort heißt in Python ***lambda***"
   ]
  },
  {
   "cell_type": "code",
   "execution_count": 25,
   "metadata": {},
   "outputs": [
    {
     "data": {
      "text/plain": [
       "5"
      ]
     },
     "execution_count": 25,
     "metadata": {},
     "output_type": "execute_result"
    }
   ],
   "source": [
    "y = apply_to_one(lambda x: x + 4)\n",
    "y"
   ]
  },
  {
   "cell_type": "markdown",
   "metadata": {},
   "source": [
    "Man kann Lambdas auch Variablen zuweisen. Dies sollte man aber nicht tun (Warum?)."
   ]
  },
  {
   "cell_type": "code",
   "execution_count": 26,
   "metadata": {},
   "outputs": [],
   "source": [
    "another_double = lambda x: 2 * x # don't do this"
   ]
  },
  {
   "cell_type": "markdown",
   "metadata": {},
   "source": [
    "### Defaultwerte für Parameter"
   ]
  },
  {
   "cell_type": "code",
   "execution_count": 27,
   "metadata": {},
   "outputs": [
    {
     "name": "stdout",
     "output_type": "stream",
     "text": [
      "hello\n",
      "my default message\n",
      "None\n"
     ]
    }
   ],
   "source": [
    "def my_print(message = \"my default message\"):\n",
    "    print(message) #Methode ohne return. Was gibt die wohl zurück?\n",
    "    \n",
    "my_print(\"hello\")\n",
    "rt = my_print()\n",
    "print(rt) #None - Was ist das?\n",
    "\n",
    "# https://www.w3schools.com/python/ref_keyword_none.asp (09.11.20):\n",
    "# The None keyword is used to define a null value, or no value at all.\n",
    "# None is not the same as 0, False, or an empty string.\n",
    "# None is a datatype of its own (NoneType) and only None can be None."
   ]
  },
  {
   "cell_type": "markdown",
   "metadata": {},
   "source": [
    "Natürlich kann man auch mehrere Default-Werte für seine Funktionen festlegen."
   ]
  },
  {
   "cell_type": "code",
   "execution_count": 28,
   "metadata": {},
   "outputs": [
    {
     "data": {
      "text/plain": [
       "\"What's-his-name Something\""
      ]
     },
     "execution_count": 28,
     "metadata": {},
     "output_type": "execute_result"
    }
   ],
   "source": [
    "def full_name(first=\"What's-his-name\", last=\"Something\"):\n",
    "    return first + \" \" + last\n",
    "full_name()"
   ]
  },
  {
   "cell_type": "markdown",
   "metadata": {},
   "source": [
    "### Positional and keyword arguments\n",
    "* https://problemsolvingwithpython.com/07-Functions-and-Modules/07.07-Positional-and-Keyword-Arguments/:\n",
    "    * In Python, there are two types of arguments: positional and keyword arguments. These arguments must appear in a particular order otherwise the Python interpreter returns an error.\n",
    "* Z.B.:"
   ]
  },
  {
   "cell_type": "code",
   "execution_count": 29,
   "metadata": {},
   "outputs": [
    {
     "name": "stdout",
     "output_type": "stream",
     "text": [
      "(3+5j)\n",
      "(5+3j)\n",
      "(3+5j)\n",
      "(3+5j)\n"
     ]
    }
   ],
   "source": [
    "#Die Reihenfolge \"positional arguments\" spielt eine Rolle\n",
    "print(complex(3, 5))\n",
    "print(complex(5, 3))\n",
    "\n",
    "#Die Reihenfolge \"keyword arguments\" untereinander spielt keine Rolle\n",
    "print(complex(real=3, imag=5))\n",
    "print(complex(imag=5, real=3))"
   ]
  },
  {
   "cell_type": "markdown",
   "metadata": {},
   "source": [
    "* https://problemsolvingwithpython.com/07-Functions-and-Modules/07.07-Positional-and-Keyword-Arguments/\n",
    "    * Keyword arguments are passed to functions after any required positional arguments. But the order of one keyword argument compared to another keyword argument does not matter. Note how both sections of code below produce the same output."
   ]
  },
  {
   "cell_type": "code",
   "execution_count": 30,
   "metadata": {},
   "outputs": [
    {
     "name": "stdout",
     "output_type": "stream",
     "text": [
      "(3+5j)\n"
     ]
    }
   ],
   "source": [
    "#print(complex(3, real=5)) #TypeError: argument for complex() given by name ('real') and position (1)\n",
    "print(complex(3, imag=5))  #OK\n",
    "#print(complex(real=5, 3)) #SyntaxError: positional argument follows keyword argument\n",
    "#print(complex(imag=5, 3)) #SyntaxError: positional argument follows keyword argument\n"
   ]
  },
  {
   "cell_type": "markdown",
   "metadata": {},
   "source": [
    "### Built-in Functions\n",
    "* https://docs.python.org/3/library/functions.html: The Python interpreter has a number of functions and types built into it that are always available.\n",
    "* Einige Bespiele hierfür hatten wir schon gesehen, z.B. print() und float().\n",
    "* Es gibt aber noch viele mehr, z.B. zum Öffnen von Dateien (*open()*) oder die Funktion *globals()*, die wie folgt beschrieben ist: Return the dictionary implementing the current module namespace\n",
    "* Eine Liste ist hier zu finden: https://docs.python.org/3/library/functions.html\n",
    "* Hier einige Beispiele:"
   ]
  },
  {
   "cell_type": "code",
   "execution_count": 31,
   "metadata": {},
   "outputs": [
    {
     "name": "stdout",
     "output_type": "stream",
     "text": [
      "True\n",
      "True\n",
      "False\n",
      "True\n",
      "---\n",
      "a\n",
      "€\n",
      "---\n"
     ]
    }
   ],
   "source": [
    "#Die in den Beispielen vorkommenden Iterables, Lists etc. werden weiter unten erläutert.\n",
    "\n",
    "l1 = ()\n",
    "l2 = (True, True, True)\n",
    "l3 = (True, True, False)\n",
    "l4 = (1,2,3)\n",
    "\n",
    "# all(iterable) - return True if any element of the iterable is true. If the iterable is empty, return False. \n",
    "print(all(l1)) \n",
    "print(all(l2))\n",
    "print(all(l3))\n",
    "print(all(l4))\n",
    "\n",
    "print(\"---\")\n",
    "\n",
    "# chr(i) - return the string representing a character whose Unicode code point is the integer i. \n",
    "print(chr(97))\n",
    "print(chr(8364))\n",
    "\n",
    "print(\"---\")\n",
    "\n",
    "\n",
    "\n"
   ]
  },
  {
   "cell_type": "markdown",
   "metadata": {},
   "source": [
    "Zum [Inhaltsverzeichnis](#InhaltsverzeichnisVZ)"
   ]
  },
  {
   "cell_type": "markdown",
   "metadata": {},
   "source": [
    "## Strings <a class=\"anchor\" id=\"Strings\"></a>"
   ]
  },
  {
   "cell_type": "markdown",
   "metadata": {},
   "source": [
    "* Stings können in einfachen oder doppelten Anführungszeichen stehen.\n",
    "* Backslashes werden für das Encoding von speziellen Zeichen verwendet:"
   ]
  },
  {
   "cell_type": "code",
   "execution_count": 32,
   "metadata": {},
   "outputs": [
    {
     "data": {
      "text/plain": [
       "1"
      ]
     },
     "execution_count": 32,
     "metadata": {},
     "output_type": "execute_result"
    }
   ],
   "source": [
    "tab_string = \"\\t\"\n",
    "len(tab_string)"
   ]
  },
  {
   "cell_type": "markdown",
   "metadata": {},
   "source": [
    "Man kann auch rohe (*raw*) Strings erzeugen, die so genommen werden, wie sie geschrieben werden:"
   ]
  },
  {
   "cell_type": "code",
   "execution_count": 33,
   "metadata": {},
   "outputs": [
    {
     "name": "stdout",
     "output_type": "stream",
     "text": [
      "2\n"
     ]
    },
    {
     "data": {
      "text/plain": [
       "'\\\\t'"
      ]
     },
     "execution_count": 33,
     "metadata": {},
     "output_type": "execute_result"
    }
   ],
   "source": [
    "not_tab_string = r\"\\t\"\n",
    "print(len(not_tab_string)) # Damit dies ausgegeben wird, muss hier print verwendet werden.\n",
    "                           # Ohne print wird immer nur die letzte Zeile eines Sriptteils\n",
    "                           # ausgegeben. Also hier das not_tab_string.\n",
    "not_tab_string"
   ]
  },
  {
   "cell_type": "markdown",
   "metadata": {},
   "source": [
    "So geht es auch:"
   ]
  },
  {
   "cell_type": "code",
   "execution_count": 34,
   "metadata": {},
   "outputs": [
    {
     "name": "stdout",
     "output_type": "stream",
     "text": [
      "2\n"
     ]
    },
    {
     "data": {
      "text/plain": [
       "'\\\\t'"
      ]
     },
     "execution_count": 34,
     "metadata": {},
     "output_type": "execute_result"
    }
   ],
   "source": [
    "not_tab_string_2 = \"\\\\t\"\n",
    "print(len(not_tab_string_2))\n",
    "not_tab_string_2"
   ]
  },
  {
   "cell_type": "markdown",
   "metadata": {},
   "source": [
    "### Multiline Strings\n",
    "Dies geht mit drei doppelten Anführungszeichen."
   ]
  },
  {
   "cell_type": "code",
   "execution_count": 35,
   "metadata": {},
   "outputs": [
    {
     "name": "stdout",
     "output_type": "stream",
     "text": [
      "This is the first line.\n",
      "This is the second.\n",
      "And this the third.\n"
     ]
    },
    {
     "data": {
      "text/plain": [
       "'This is the first line.\\nThis is the second.\\nAnd this the third.'"
      ]
     },
     "execution_count": 35,
     "metadata": {},
     "output_type": "execute_result"
    }
   ],
   "source": [
    "multi_line_string = \"\"\"This is the first line.\n",
    "This is the second.\n",
    "And this the third.\"\"\"\n",
    "print(multi_line_string)\n",
    "multi_line_string"
   ]
  },
  {
   "cell_type": "markdown",
   "metadata": {},
   "source": [
    "### f-Strings\n",
    "Sind neu seit Python 3.6 und können verwendetet werden um Strings zu kombinieren."
   ]
  },
  {
   "cell_type": "code",
   "execution_count": 36,
   "metadata": {},
   "outputs": [
    {
     "data": {
      "text/plain": [
       "'Stephan Salinger'"
      ]
     },
     "execution_count": 36,
     "metadata": {},
     "output_type": "execute_result"
    }
   ],
   "source": [
    "first_name = \"Stephan\"\n",
    "last_name = \"Salinger\"\n",
    "\n",
    "#Es gibt unterschiedliche Möglichkeiten diese Zusammenzufügen\n",
    "\n",
    "full_name1 = first_name + \" \" + last_name             #string additiom\n",
    "full_name2 = \"{0} {1}\".format(first_name, last_name)  #string.format\n",
    "full_name3 = f\"{first_name} {last_name}\" #f-string: Das Leerzeichen dazwischen \n",
    "                                         #wird als Leerzeichen verwendet\n",
    "full_name3"
   ]
  },
  {
   "cell_type": "markdown",
   "metadata": {},
   "source": [
    "Zum [Inhaltsverzeichnis](#InhaltsverzeichnisVZ)"
   ]
  },
  {
   "cell_type": "markdown",
   "metadata": {},
   "source": [
    "## Exceptions <a class=\"anchor\" id=\"Exceptions\"></a>\n",
    "* Wenn etwas schief geht, wirft Python eine *Exception*\n",
    "* Unbehandelte *Exceptions* führen zu einem Programmabbruch.\n",
    "* Mittels *try* und *except* können *Exception* behandelt werden.\n",
    "\n",
    "In manchen Sprachen werden *Exception* als etwas Negatives betrachtet: In Python werden sie verwendet um saubereren (*cleaner*) Code zu schreiben."
   ]
  },
  {
   "cell_type": "code",
   "execution_count": 37,
   "metadata": {},
   "outputs": [
    {
     "name": "stdout",
     "output_type": "stream",
     "text": [
      "cannot divide by zero\n"
     ]
    }
   ],
   "source": [
    "try:\n",
    "    print(0 / 0)\n",
    "except ZeroDivisionError:\n",
    "    print(\"cannot divide by zero\")"
   ]
  },
  {
   "cell_type": "markdown",
   "metadata": {},
   "source": [
    "Natürlich kann man auch auf den Fehler zugreifen, z.B. um diesen auszugeben:"
   ]
  },
  {
   "cell_type": "code",
   "execution_count": 38,
   "metadata": {},
   "outputs": [
    {
     "name": "stdout",
     "output_type": "stream",
     "text": [
      "cannot divide by zero: ZeroDivisionError('division by zero')\n"
     ]
    }
   ],
   "source": [
    "try:\n",
    "    print(0 / 0)\n",
    "except ZeroDivisionError as error:\n",
    "    print(\"cannot divide by zero: \" + repr(error)) #str(error) würde nur die Fehlermeldung, nicht den Typ ausgeben"
   ]
  },
  {
   "cell_type": "markdown",
   "metadata": {},
   "source": [
    "Eine Liste der Python-Exceptions findet sich z.B. hier https://docs.python.org/3/library/exceptions.html oder hier https://www.w3schools.com/python/python_ref_exceptions.asp."
   ]
  },
  {
   "cell_type": "markdown",
   "metadata": {},
   "source": [
    "### Ausnahmen auslösen\n",
    "* https://docs.python.org/3/tutorial/errors.html:\n",
    "    * The *raise* statement allows the programmer to force a specified exception to occur. For example:\n",
    "    raise NameError('HiThere')"
   ]
  },
  {
   "cell_type": "markdown",
   "metadata": {},
   "source": [
    "Zum [Inhaltsverzeichnis](#InhaltsverzeichnisVZ)"
   ]
  },
  {
   "cell_type": "markdown",
   "metadata": {},
   "source": [
    "## Lists <a class=\"anchor\" id=\"ListsChap\"></a>\n",
    "* Eine der fundamentalsten Datenstrukturen in Python sind Listen.\n",
    "* Eine Liste ist eine geordnete Mengen (*collections*).\n",
    "* Sie entsprechen in etwa dem, was man in anderen Sprachen als Arrays bezeichnet - haben aber zusätzliche Funktionalitäten."
   ]
  },
  {
   "cell_type": "code",
   "execution_count": 39,
   "metadata": {},
   "outputs": [
    {
     "name": "stdout",
     "output_type": "stream",
     "text": [
      "[[1, 2, 3], ['string', 0.1, True], []]\n",
      "3\n",
      "6\n",
      "7\n"
     ]
    }
   ],
   "source": [
    "integer_list = [1,2,3]\n",
    "hetero_list = [\"string\",0.1,True]\n",
    "list_of_lists = [integer_list, hetero_list, []]\n",
    "\n",
    "print(list_of_lists)\n",
    "\n",
    "list_length = len(integer_list)\n",
    "list_sum = sum(integer_list)\n",
    "\n",
    "print(list_length)\n",
    "print(list_sum)\n",
    "\n",
    "#Kann man die Funktionen len und sum eigentlich auch auf andere Typen loslassen?\n",
    "# print(len(4)) -> Nein: object of type 'int' has no len()\n",
    "# print(len(True)) Nein: object of type 'bool' has no len()\n",
    "# Aber natürlich auf Strings (s.o.):\n",
    "print(len(\"Stephan\"))\n"
   ]
  },
  {
   "cell_type": "markdown",
   "metadata": {},
   "source": [
    "Man kann auf das n-te Element einer Liste zugreifen bzw. es setzen:"
   ]
  },
  {
   "cell_type": "code",
   "execution_count": 40,
   "metadata": {},
   "outputs": [
    {
     "name": "stdout",
     "output_type": "stream",
     "text": [
      "0\n",
      "9\n",
      "[-1, 1, 2, 3, 4, 5, 6, 7, 8, 9]\n"
     ]
    }
   ],
   "source": [
    "x = [0,1,2,3,4,5,6,7,8,9]\n",
    "zero = x[0] #Die Zählung beginnt bei 0\n",
    "print(zero)\n",
    "\n",
    "nine = x[-1] # Hier wird von hinten gezählt\n",
    "print(nine)\n",
    "\n",
    "x[0] = -1 #Man kann auch Elemente setzen\n",
    "print(x)\n",
    "\n",
    "#x[12] = 12 #Man kann keine Elemente setzen, die vorher noch nicht da waren"
   ]
  },
  {
   "cell_type": "markdown",
   "metadata": {},
   "source": [
    "### Slices\n",
    "\n",
    "Auf Teilintervalle von Listen zugreifen:\n",
    "* [i:j] bedeutet: Von Position i (inklusive) bis Position j (exclusive)"
   ]
  },
  {
   "cell_type": "code",
   "execution_count": 41,
   "metadata": {},
   "outputs": [
    {
     "name": "stdout",
     "output_type": "stream",
     "text": [
      "[0, 1, 2]\n",
      "[3, 4, 5, 6, 7, 8, 9]\n",
      "[1, 2, 3, 4]\n",
      "[7, 8, 9]\n",
      "---\n",
      "[0, 1, 2, 3, 4, 5, 6, 7, 8, 9]\n",
      "True\n",
      "[1000, 1, 2, 3, 4, 5, 6, 7, 8, 9]\n",
      "[1000, 1, 2, 3, 4, 5, 6, 7, 8, 9]\n",
      "False\n",
      "---\n"
     ]
    }
   ],
   "source": [
    "x = [0,1,2,3,4,5,6,7,8,9]\n",
    "first_three = x[:3] #Die Position 3 ist exclusive\n",
    "print(first_three)\n",
    "\n",
    "three_to_end = x[3:]\n",
    "print(three_to_end)\n",
    "\n",
    "one_to_four = x[1:5]\n",
    "print(one_to_four)\n",
    "\n",
    "last_three = x[-3:]\n",
    "print(last_three)\n",
    "\n",
    "print(\"---\")\n",
    "\n",
    "copy_of_x_1 = x                  #Keine Kopie! copy_of_x_1 und x zeigen auf selbe Liste\n",
    "copy_of_x_2 = x[:]               #Echte Kopie (neue Liste)\n",
    "print(copy_of_x_2)\n",
    "print(copy_of_x_1==copy_of_x_2)  #Die Gleichheit wird aber wohl elementweise überprüft\n",
    "x[0] = 1000                      #Modifiziert auch copy_of_x_1\n",
    "print(x)\n",
    "print(copy_of_x_1)\n",
    "print(copy_of_x_1==copy_of_x_2)\n",
    "\n",
    "print(\"---\")\n",
    "\n",
    "#Gilt das Gleiche auch bei Strings?\n",
    "# Nein - Strings lassen sich gar nicht modifizieren - z.B.\n",
    "# s = \"String\"\n",
    "# s[0] = 'U' - eine solche Modifikation ist bei Strings nicht zulässig\n",
    "# s.replace(\"S\", \"U\") verändert s nicht,\n",
    "# sondern liefert nur einen neuen veränderten String zurück"
   ]
  },
  {
   "cell_type": "markdown",
   "metadata": {},
   "source": [
    "In ähnlicher Weise können auch Strings und andere \"sequentielle\" Typen \"zerlegt\" werden.\n",
    "\n",
    "Kleiner Hinweis an dieser Stelle zu **Strings** (https://www.w3schools.com/python/python_strings.asp):\n",
    "* *Like many other popular programming languages, strings in Python are arrays of bytes representing unicode characters.*\n",
    "* *However, Python does not have a character data type, a single character is simply a string with a length of 1.*\n",
    "* *Square brackets can be used to access elements of the string.*\n",
    "\n",
    "Ein *Slice* kann ein drittes Argument besitzen:"
   ]
  },
  {
   "cell_type": "code",
   "execution_count": 42,
   "metadata": {},
   "outputs": [
    {
     "name": "stdout",
     "output_type": "stream",
     "text": [
      "[1000, 1, 2, 3, 4, 5, 6, 7, 8, 9]\n",
      "[1000, 3, 6, 9]\n",
      "[5, 4, 3]\n",
      "[5, 3]\n"
     ]
    }
   ],
   "source": [
    "every_third = x[::3]\n",
    "five_to_three = x[5:2:-1]\n",
    "five_to_three_every_second = x[5:2:-2]\n",
    "\n",
    "print(x)\n",
    "print(every_third)\n",
    "print(five_to_three)\n",
    "print(five_to_three_every_second)"
   ]
  },
  {
   "cell_type": "markdown",
   "metadata": {},
   "source": [
    "### Mitglieder einer Liste überprüfen:"
   ]
  },
  {
   "cell_type": "code",
   "execution_count": 43,
   "metadata": {},
   "outputs": [
    {
     "name": "stdout",
     "output_type": "stream",
     "text": [
      "True\n"
     ]
    },
    {
     "data": {
      "text/plain": [
       "False"
      ]
     },
     "execution_count": 43,
     "metadata": {},
     "output_type": "execute_result"
    }
   ],
   "source": [
    "print(1 in [1,2,3])\n",
    "0 in [1,2,3]"
   ]
  },
  {
   "cell_type": "markdown",
   "metadata": {},
   "source": [
    "### *extend* und *append* auf Listen"
   ]
  },
  {
   "cell_type": "code",
   "execution_count": 44,
   "metadata": {},
   "outputs": [
    {
     "name": "stdout",
     "output_type": "stream",
     "text": [
      "[1, 2, 3, 4, 5, 4, 5, 6]\n",
      "[1, 2, 3, 4, 5, 4, 5, 6, 7]\n"
     ]
    }
   ],
   "source": [
    "x = [1,2,3,4,5]\n",
    "x.extend([4,5,6])\n",
    "print(x)\n",
    "x.append(7)\n",
    "print(x)"
   ]
  },
  {
   "cell_type": "markdown",
   "metadata": {},
   "source": [
    "### Listen \"auspacken\" (*unpack*)\n",
    "Dies geht, wenn man weiß, wieviele Elemente eine Liste hat:"
   ]
  },
  {
   "cell_type": "code",
   "execution_count": 45,
   "metadata": {},
   "outputs": [
    {
     "name": "stdout",
     "output_type": "stream",
     "text": [
      "1\n",
      "2\n",
      "3\n",
      "2\n"
     ]
    }
   ],
   "source": [
    "x, y, z = [1,2,3]\n",
    "print(x)\n",
    "print(y)\n",
    "print(z)\n",
    "\n",
    "_,x,_ = [1,2,3] # Einzelnen Elemente dabei \"wegschmeissen\"\n",
    "print(x)"
   ]
  },
  {
   "cell_type": "markdown",
   "metadata": {},
   "source": [
    "### Listen kopieren\n",
    "* Die Klasse *list* besitzt eine Methode *copy()* um eine Kopie einer Liste zu erzeugen.\n",
    "* Diese Methode erzeugt aber \"nur\" eine sogenannte \"flache\" Kopie. Dies bedeutet, dass die Variable, die auf eine mit *copy()* erzeugte Kopie enthält, auf das selbe Objekt zeigt, wie das Original.\n",
    "* Eine echte (komplete) Kopie kann mit der Methode *deepcopy* aus dem Modul copy erzeugt werden.\n",
    "* Der nachfolgende Kode verdeutlicht dies:"
   ]
  },
  {
   "cell_type": "code",
   "execution_count": 46,
   "metadata": {},
   "outputs": [
    {
     "name": "stdout",
     "output_type": "stream",
     "text": [
      "['Peter', ['Hauptstrasse 1', 'Berlin']]\n",
      "['Peter', ['Hauptstrasse 1', 'Berlin']]\n",
      "['Peter', ['Hauptstrasse 1', 'Bonn']]\n",
      "['Peter', ['Hauptstrasse 1', 'Berlin']]\n"
     ]
    }
   ],
   "source": [
    "list1 = [\"Peter\", [\"Hauptstrasse 1\", \"Bonn\"]]\n",
    "list2 = list1.copy() #Nicht geeignet für vollständige Kopie, da nur eine sogenannte flache Kopie erzeugt wird -\n",
    "                        #siehe https://www.python-kurs.eu/python3_deep_copy.php\n",
    "list2[1][1]= \"Berlin\"\n",
    "\n",
    "print(list1)\n",
    "print(list2)\n",
    "\n",
    "#Man benötigt  hierzu deepcopy aus dem Modul copy\n",
    "from copy import deepcopy\n",
    "\n",
    "list1 = [\"Peter\", [\"Hauptstrasse 1\", \"Bonn\"]]\n",
    "list2 = deepcopy (list1)\n",
    "\n",
    "list2[1][1]= \"Berlin\"\n",
    "\n",
    "print(list1)\n",
    "print(list2)"
   ]
  },
  {
   "cell_type": "markdown",
   "metadata": {},
   "source": [
    "### Listen sortieren/kürzen bzw. *List Comprehension* \n",
    "Siehe weiter unten unter [Sorting (Lists)](#Sorting_(Lists)) bzw. [List Comprehension](#List_Comprehension).\n",
    "\n",
    "Zum [Inhaltsverzeichnis](#InhaltsverzeichnisVZ)"
   ]
  },
  {
   "cell_type": "markdown",
   "metadata": {},
   "source": [
    "## Tuples <a class=\"anchor\" id=\"TuplesChap\"></a>\n",
    "\n",
    "* Tupel sind die unveränderlichen Cousins der Listen.\n",
    "* Fast alles was man mit Listen tun kann, was diese nicht verändert, kann man auch mit Tupeln tun.\n",
    "* Tupel stehen in runden Klammern oder ganz ohne Klammern."
   ]
  },
  {
   "cell_type": "code",
   "execution_count": 47,
   "metadata": {},
   "outputs": [
    {
     "name": "stdout",
     "output_type": "stream",
     "text": [
      "(1, 2)\n",
      "(1, 2)\n",
      "cannot modify a tuple\n"
     ]
    }
   ],
   "source": [
    "my_list = [1,2]\n",
    "my_tuple = (1,2)\n",
    "my_tuple2 = 1,2\n",
    "print(my_tuple)\n",
    "print(my_tuple2)\n",
    "\n",
    "try:\n",
    "    my_tuple[1] = 3\n",
    "except TypeError:\n",
    "    print(\"cannot modify a tuple\")"
   ]
  },
  {
   "cell_type": "markdown",
   "metadata": {},
   "source": [
    "Tuple sind ein praktischer Weg, um eine Funktion mehrere Werte zurückgeben zu lassen."
   ]
  },
  {
   "cell_type": "code",
   "execution_count": 48,
   "metadata": {},
   "outputs": [
    {
     "name": "stdout",
     "output_type": "stream",
     "text": [
      "(5, 6)\n",
      "5\n",
      "6\n"
     ]
    }
   ],
   "source": [
    "def sum_and_product(x,y):\n",
    "    return x+y,x*y #lesbarer: return (x+y),(x*y)\n",
    "\n",
    "sp = sum_and_product(2,3)\n",
    "s, p = sum_and_product(2,3)\n",
    "\n",
    "print(sp)\n",
    "print(s)\n",
    "print(p)"
   ]
  },
  {
   "cell_type": "markdown",
   "metadata": {},
   "source": [
    "Tupel (wie auch Listen) können für Mehrfachzuweisungen verwendet werden"
   ]
  },
  {
   "cell_type": "code",
   "execution_count": 49,
   "metadata": {},
   "outputs": [
    {
     "name": "stdout",
     "output_type": "stream",
     "text": [
      "2\n",
      "1\n"
     ]
    }
   ],
   "source": [
    "x, y = 1, 2\n",
    "x, y = y, x #Wechsel der Werte von Variablen nach Python-Art\n",
    "            #Bedeutet, dass eine solche Mehrfachzuweisung nicht \"platt\" sequentiell passiert \n",
    "print(x)\n",
    "print(y)"
   ]
  },
  {
   "cell_type": "markdown",
   "metadata": {},
   "source": [
    "Zum [Inhaltsverzeichnis](#InhaltsverzeichnisVZ)"
   ]
  },
  {
   "cell_type": "markdown",
   "metadata": {},
   "source": [
    "## Dictionaries <a class=\"anchor\" id=\"DictionariesChap\"></a>\n",
    "* In *Dictionaries* werden Werte (*values*) mir Schlüsseln (*keys*) assoziert.\n",
    "* https://realpython.com/lessons/restrictions-dictionary-keys-and-values/: A dictionary key must be of a type that is immutable. For example, you can use an integer, float, string, or Boolean as a dictionary key. However, neither a list nor another dictionary can serve as a dictionary key, because lists and dictionaries are mutable. Values, on the other hand, can be any type and can be used more than once."
   ]
  },
  {
   "cell_type": "code",
   "execution_count": 50,
   "metadata": {},
   "outputs": [
    {
     "name": "stdout",
     "output_type": "stream",
     "text": [
      "{'Joel': 80, 'Tim': 95}\n",
      "80\n"
     ]
    }
   ],
   "source": [
    "empty_dict= {}       #Python style\n",
    "empty_dict2 = dict() #Less Python style\n",
    "grades = {\"Joel\": 80, \"Tim\": 95} #Definition über geschweifte Klammern\n",
    "print(grades)\n",
    "joel_grade = grades[\"Joel\"] #Zugriff über einen Schlüssel über eckige Klammern,\n",
    "                            #analog zu Listen\n",
    "print(joel_grade)\n"
   ]
  },
  {
   "cell_type": "markdown",
   "metadata": {},
   "source": [
    "### Zugriff auf nicht existente Elemente über nicht existente *Keys*: KeyError"
   ]
  },
  {
   "cell_type": "code",
   "execution_count": 51,
   "metadata": {},
   "outputs": [
    {
     "name": "stdout",
     "output_type": "stream",
     "text": [
      "no grade for Kate\n"
     ]
    }
   ],
   "source": [
    "try:\n",
    "    kate_grade = grades[\"Kate\"]\n",
    "except KeyError:\n",
    "    print(\"no grade for Kate\")"
   ]
  },
  {
   "cell_type": "markdown",
   "metadata": {},
   "source": [
    "Überprüfen ob es einen Schlüssel in einem *Dictionary* gibt:"
   ]
  },
  {
   "cell_type": "code",
   "execution_count": 52,
   "metadata": {},
   "outputs": [
    {
     "name": "stdout",
     "output_type": "stream",
     "text": [
      "True\n",
      "False\n"
     ]
    }
   ],
   "source": [
    "joel_has_grade = \"Joel\" in grades\n",
    "kate_has_grade = \"Kate\" in grades\n",
    "print(joel_has_grade)\n",
    "print(kate_has_grade)"
   ]
  },
  {
   "cell_type": "markdown",
   "metadata": {},
   "source": [
    "*Dictionaries* haben eine get-Methode, die einen Default-Wert zurückgibt, falls der *Key* nicht existiert (anstatt eine *Exception* zu werfen). "
   ]
  },
  {
   "cell_type": "code",
   "execution_count": 53,
   "metadata": {},
   "outputs": [
    {
     "name": "stdout",
     "output_type": "stream",
     "text": [
      "0\n",
      "None\n"
     ]
    }
   ],
   "source": [
    "kate_grade = grades.get(\"Kate\", 0)\n",
    "print(kate_grade)\n",
    "no_ones_grade = grades.get(\"no_one\") # Default ist None\n",
    "print(no_ones_grade)"
   ]
  },
  {
   "cell_type": "markdown",
   "metadata": {},
   "source": [
    "### Zuweisungen in *Dictionaries*"
   ]
  },
  {
   "cell_type": "code",
   "execution_count": 54,
   "metadata": {},
   "outputs": [
    {
     "name": "stdout",
     "output_type": "stream",
     "text": [
      "{'Joel': 80, 'Tim': 99, 'Marc': 100}\n",
      "3\n"
     ]
    }
   ],
   "source": [
    "grades[\"Tim\"] = 99     # Überschreiben eines existierenden Wertes\n",
    "grades[\"Marc\"] = 100   # Eintrag eins neuen Schlüssel/Wert-Paares\n",
    "num_students = len(grades)\n",
    "print(grades)\n",
    "print(num_students)"
   ]
  },
  {
   "cell_type": "markdown",
   "metadata": {},
   "source": [
    "### *Dictionaries* zur Repräsentation von strukturierten Daten"
   ]
  },
  {
   "cell_type": "code",
   "execution_count": 55,
   "metadata": {},
   "outputs": [
    {
     "name": "stdout",
     "output_type": "stream",
     "text": [
      "{'user': 'stephan', 'text': 'SE ist super', 'retweet_count': 100, 'hashtags': ['#se', '#science']}\n"
     ]
    }
   ],
   "source": [
    "tweet = {\n",
    "    \"user\": \"stephan\",\n",
    "    \"text\": \"SE ist super\",\n",
    "    \"retweet_count\": 100,\n",
    "    \"hashtags\" : [\"#se\", \"#science\"]\n",
    "}\n",
    "print(tweet)"
   ]
  },
  {
   "cell_type": "markdown",
   "metadata": {},
   "source": [
    "**Es gibt aber besser Wege strukturierte Datentypen zu verwenden!**\n",
    "\n",
    "Außerdem: Anstatt nach einem bestimmten Schlüssel zu suchen, kann man auch alle betrachten:"
   ]
  },
  {
   "cell_type": "code",
   "execution_count": 56,
   "metadata": {},
   "outputs": [
    {
     "name": "stdout",
     "output_type": "stream",
     "text": [
      "{'user': 'stephan', 'text': 'SE ist super', 'retweet_count': 100, 'hashtags': ['#se', '#science']}\n",
      "<class 'dict'>\n",
      "---\n",
      "dict_keys(['user', 'text', 'retweet_count', 'hashtags'])\n",
      "<class 'dict_keys'>\n",
      "---\n",
      "dict_values(['stephan', 'SE ist super', 100, ['#se', '#science']])\n",
      "<class 'dict_values'>\n",
      "---\n",
      "dict_items([('user', 'stephan'), ('text', 'SE ist super'), ('retweet_count', 100), ('hashtags', ['#se', '#science'])])\n",
      "<class 'dict_items'>\n"
     ]
    }
   ],
   "source": [
    "print(tweet)\n",
    "print(type(tweet))\n",
    "print(\"---\")\n",
    "\n",
    "tweet_keys0 = tweet.keys()     # iterable for the keys\n",
    "tweet_values0 = tweet.values() # iterable for the values\n",
    "tweet_items0 = tweet.items()     # iterable for the tuples\n",
    "\n",
    "print(tweet_keys0)\n",
    "print(type(tweet_keys0))\n",
    "print(\"---\")\n",
    "print(tweet_values0)\n",
    "print(type(tweet_values0))\n",
    "print(\"---\")\n",
    "print(tweet_items0)\n",
    "print(type(tweet_items0))"
   ]
  },
  {
   "cell_type": "code",
   "execution_count": 57,
   "metadata": {},
   "outputs": [
    {
     "name": "stdout",
     "output_type": "stream",
     "text": [
      "True\n",
      "True\n"
     ]
    },
    {
     "data": {
      "text/plain": [
       "True"
      ]
     },
     "execution_count": 57,
     "metadata": {},
     "output_type": "execute_result"
    }
   ],
   "source": [
    "print(\"user\" in tweet_keys0)       # Ok, but not Python style\n",
    "print(\"user\" in tweet)             # Phython style\n",
    "\"stephan\" in tweet_values0          # Slow, but only way"
   ]
  },
  {
   "cell_type": "markdown",
   "metadata": {},
   "source": [
    "*Dictionary Keys* müssen *haschbar* sein. *Lists* können nicht als *Keys* verwentet werden - aber Tuples (oder eben als *Lists* als Strings)."
   ]
  },
  {
   "cell_type": "markdown",
   "metadata": {},
   "source": [
    "### *defaultdict*\n",
    "\n",
    "Unterschiedliche Wörter in einem Dokument zählen - mittels eines Dictionaries. Die Wörter bilden die *Keys*, ihre Häufigkeiten die *Values*. **Erste Variante**:"
   ]
  },
  {
   "cell_type": "code",
   "execution_count": 58,
   "metadata": {},
   "outputs": [
    {
     "name": "stdout",
     "output_type": "stream",
     "text": [
      "{'D': 1, 'i': 3, 'e': 3, 's': 2, ' ': 3, 't': 2, 'n': 1, 'T': 1, 'x': 1}\n"
     ]
    }
   ],
   "source": [
    "document = \"Dies ist ein Text\"\n",
    "\n",
    "word_count = {}\n",
    "for word in document:              # Nunja, da document hier ein String ist liefert \"in\" \n",
    "                                   # einzelne Zeichen und keine Wörter\n",
    "    if word in word_count:\n",
    "        word_count[word] += 1\n",
    "    else:\n",
    "        word_count[word] = 1\n",
    "\n",
    "print(word_count)"
   ]
  },
  {
   "cell_type": "markdown",
   "metadata": {},
   "source": [
    "Die **zweite Variante** ist der \"forgiveness is better than permission\"-Ansatz.\n",
    "\n",
    "https://docs.python.org/3/glossary.html: \n",
    "\n",
    "> ***EAFP***\n",
    "*Easier to ask for forgiveness than permission. This common Python coding style assumes the existence of valid keys or attributes and catches exceptions if the assumption proves false. This clean and fast style is characterized by the presence of many try and except statements. The technique contrasts with the LBYL style common to many other languages such as C.*"
   ]
  },
  {
   "cell_type": "code",
   "execution_count": 59,
   "metadata": {},
   "outputs": [
    {
     "name": "stdout",
     "output_type": "stream",
     "text": [
      "{'D': 1, 'i': 3, 'e': 3, 's': 2, ' ': 3, 't': 2, 'n': 1, 'T': 1, 'x': 1}\n"
     ]
    }
   ],
   "source": [
    "document = \"Dies ist ein Text\"\n",
    "\n",
    "word_count = {}\n",
    "for word in document:              # Nunja, da document hier ein String ist liefert \"in\" \n",
    "                                   # einzelne Zeichen und keine Wörter\n",
    "    try:\n",
    "        word_count[word] += 1\n",
    "    except:\n",
    "        word_count[word] = 1\n",
    "\n",
    "print(word_count)"
   ]
  },
  {
   "cell_type": "markdown",
   "metadata": {},
   "source": [
    "In der **dritten Variante** wird *get* verwendet, welches sich \"höflich\" (*gracefully*) bei fehlenden *Keys* verhält:"
   ]
  },
  {
   "cell_type": "code",
   "execution_count": 60,
   "metadata": {},
   "outputs": [
    {
     "name": "stdout",
     "output_type": "stream",
     "text": [
      "{'D': 1, 'i': 3, 'e': 3, 's': 2, ' ': 3, 't': 2, 'n': 1, 'T': 1, 'x': 1}\n"
     ]
    }
   ],
   "source": [
    "document = \"Dies ist ein Text\"\n",
    "\n",
    "word_count = {}\n",
    "for word in document:              # Nunja, da document hier ein String ist liefert \"in\" \n",
    "                                   # einzelne Zeichen und keine Wörter\n",
    "    previous_count = word_count.get(word,0)\n",
    "    word_count[word] = previous_count + 1\n",
    "\n",
    "print(word_count)"
   ]
  },
  {
   "cell_type": "markdown",
   "metadata": {},
   "source": [
    "Alle diese Versionen sind ein wenig unhandlich.\n",
    "* Deshalb ist hier ein *defaultdict* hilfreich.\n",
    "* Diesen kann eine argumentlose Funktion übergeben werden, die beim Zugriff auf einen nichtvorhanden *Key* vorher einen Wert für diesen Key erzeugt und einträgt.\n",
    "* Das Modul *defaultdict* muss importiert werden."
   ]
  },
  {
   "cell_type": "code",
   "execution_count": 61,
   "metadata": {},
   "outputs": [
    {
     "name": "stdout",
     "output_type": "stream",
     "text": [
      "0\n",
      "[]\n",
      "{}\n",
      "\n",
      "--1: int()--\n",
      "defaultdict(<class 'int'>, {'D': 1, 'i': 3, 'e': 3, 's': 2, ' ': 3, 't': 2, 'n': 1, 'T': 1, 'x': 1})\n",
      "\n",
      "--2: list()--\n",
      "defaultdict(<class 'list'>, {2: [1], 6: []})\n",
      "Error: Aber es wurde ein Eintrag unter Key 4 erzeugt!\n",
      "defaultdict(<class 'list'>, {2: [1], 6: [], 4: []})\n",
      "\n",
      "--3: dict()--\n",
      "defaultdict(<class 'dict'>, {'Stephan': {'Stadt': 'Berlin'}})\n",
      "\n",
      "--4: defaultdict()--\n",
      "defaultdict(<class 'collections.defaultdict'>, {'Stephan': defaultdict(None, {'Stadt': 'Berlin'})})\n",
      "\n",
      "--4: lambda()--\n",
      "defaultdict(<function <lambda> at 0x7f8cd00823a0>, {2: [0, 1]})\n"
     ]
    }
   ],
   "source": [
    "from collections import defaultdict\n",
    "\n",
    "document = \"Dies ist ein Text\"\n",
    "\n",
    "#Vorbemerkungen\n",
    "null0 = int()   #Gibt eine Null zurück\n",
    "print(null0)\n",
    "list0 = list()   #Gibt eine leere Liste zurück\n",
    "print(list0)\n",
    "dict0 = dict()   #Gibt ein leeres Dictionary zurück\n",
    "print(dict0)\n",
    "\n",
    "print()\n",
    "print(\"--1: int()--\")\n",
    "\n",
    "word_count = defaultdict(int) #Argumentlose Funktion int()\n",
    "for word in document:\n",
    "    word_count[word] += 1\n",
    "\n",
    "print(word_count)\n",
    "\n",
    "print()\n",
    "print(\"--2: list()--\")\n",
    "\n",
    "dd_list = defaultdict(list)\n",
    "dd_list[2].append(1)        #Unter dem Key 2 die dortige Liste um den Integer 1 erweitern\n",
    "                            #Unter dem Key 2 existiert aber noch kein Wert, deshalb wird\n",
    "                            #mittels list() zuerst eine leere Liste erzeugt\n",
    "dd_list[6]                  #Allein der Zugriff erzeugt einen Eintrag     \n",
    "print(dd_list)\n",
    "\n",
    "try:\n",
    "    dd_list[5] = dd_list[4] + 7 # Das geht natürlich nicht, da man auf eine leere Liste\n",
    "                                # 7 addieren kann\n",
    "except:\n",
    "    print(\"Error: Aber es wurde ein Eintrag unter Key 4 erzeugt!\")\n",
    "        \n",
    "print(dd_list)\n",
    "\n",
    "print()\n",
    "print(\"--3: dict()--\")\n",
    "\n",
    "dd_dict = defaultdict(dict)\n",
    "dd_dict[\"Stephan\"][\"Stadt\"] = \"Berlin\" #Achtung: Durch die erste Klammer (Key = Stephan)\n",
    "                                       #erfolgt\n",
    "                                       #ein Zugriff auf ein nicht vorhandenes Element.\n",
    "                                       #Hier greift das \"defaultdict\" und erzeugt vorher ein\n",
    "                                       #leeres Dictionary. Hier wird nun mit der zweiten\n",
    "                                       #ein Eintrag (für Key = Stadt) gesetzt.\n",
    "print(dd_dict)\n",
    "\n",
    "print()\n",
    "print(\"--4: defaultdict()--\")\n",
    "\n",
    "dd_dict2 = defaultdict(defaultdict)\n",
    "dd_dict2[\"Stephan\"][\"Stadt\"] = \"Berlin\" \n",
    "print(dd_dict2)\n",
    "\n",
    "print()\n",
    "print(\"--4: lambda()--\")\n",
    "dd_pair = defaultdict(lambda: [0,0]) #Ggf. wird eine Liste mit zwei Werten erzeugt\n",
    "dd_pair[2][1] = 1                   #Es wird für den nicht existenten Key 2 die\n",
    "                                    #2er-Liste [0,0] erzeugt\n",
    "                                    #und dort das zweite Element auf 1 gesetzt\n",
    "print(dd_pair)"
   ]
  },
  {
   "cell_type": "markdown",
   "metadata": {},
   "source": [
    "Zum [Inhaltsverzeichnis](#InhaltsverzeichnisVZ)"
   ]
  },
  {
   "cell_type": "markdown",
   "metadata": {},
   "source": [
    "## Counter (*) <a class=\"anchor\" id=\"CounterChap\"></a>\n",
    "Mittels Countern kann eine Sequenz von Werten in ein *defaultdict(int)*-ähnliches Objekt verwandelt werden, in dem die Häufigkeit der Werte dargestellt sind."
   ]
  },
  {
   "cell_type": "code",
   "execution_count": 62,
   "metadata": {},
   "outputs": [
    {
     "name": "stdout",
     "output_type": "stream",
     "text": [
      "\n",
      "--1: List--\n",
      "Counter({0: 2, 1: 1, 2: 1})\n",
      "<class 'collections.Counter'>\n",
      "Counter({0: 2, 1: 1, 2: 1, 4: 0})\n",
      "\n",
      "--2: Tupel--\n",
      "Counter({0: 2, 1: 1, 2: 1})\n",
      "Counter({0: 2, 1: 1, 2: 1, 4: 0})\n",
      "\n",
      "--3: String--\n",
      "Counter({'0': 2, '1': 1, '2': 1})\n"
     ]
    }
   ],
   "source": [
    "from collections import Counter\n",
    "\n",
    "print()\n",
    "print(\"--1: List--\")\n",
    "c = Counter([0,1,2,0])       #Das geht mit Listen\n",
    "print(c)\n",
    "print(type(c))\n",
    "c[4] = c[5]                  #Interessanterweise funktioniert der Zugriff auf nicht\n",
    "                             #existente Einträge (ähnlich wie bei defaultdicts).\n",
    "                             #Es wird ein Standard-Wert zurückgegeben, aber nicht \n",
    "                             #dem nicht existenten Eintrag zugewiesen. \n",
    "print(c)\n",
    "\n",
    "print()\n",
    "print(\"--2: Tupel--\")\n",
    "c2 = Counter((0,1,2,0))      #Das geht mit Tupeln\n",
    "print(c2)\n",
    "c2[4] = c2[5]                #Siehe oben\n",
    "print(c2)\n",
    "\n",
    "print()\n",
    "print(\"--3: String--\")\n",
    "c3 = Counter(\"0120\")         #Und das geht sogar mir Strings\n",
    "print(c3)\n",
    "\n"
   ]
  },
  {
   "cell_type": "markdown",
   "metadata": {},
   "source": [
    "*Counter* hat eine sehr hilfreiche Methode *most_common()*. Liefert eine Liste von Tupeln (sortiert):"
   ]
  },
  {
   "cell_type": "code",
   "execution_count": 63,
   "metadata": {},
   "outputs": [
    {
     "name": "stdout",
     "output_type": "stream",
     "text": [
      "<class 'list'>\n",
      "[(0, 2), (1, 1)]\n",
      "<class 'list'>\n",
      "[('0', 2), ('1', 1), ('2', 1)]\n",
      "Apfel 3\n",
      "Birne 2\n",
      "Pflaume 2\n"
     ]
    }
   ],
   "source": [
    "c_mc = c.most_common(2) #Die zwei Häufigsten\n",
    "print(type(c_mc))\n",
    "print(c_mc)\n",
    "\n",
    "c3_mc = c3.most_common(3) #Die drei Häufigsten\n",
    "print(type(c3_mc))\n",
    "print(c3_mc)\n",
    "\n",
    "#Das Dokument sei hier eine Liste von Strings\n",
    "dokumentX = [\"Birne\", \"Apfel\", \"Pflaume\", \"Apfel\", \"Apfel\", \"Pflaume\", \"Kiwi\", \"Birne\"]\n",
    "for word, count in Counter(dokumentX).most_common(3): #Die drei Häufigsten\n",
    "    print(word, count)"
   ]
  },
  {
   "cell_type": "markdown",
   "metadata": {},
   "source": [
    "Zum [Inhaltsverzeichnis](#InhaltsverzeichnisVZ)"
   ]
  },
  {
   "cell_type": "markdown",
   "metadata": {},
   "source": [
    "## Sets <a class=\"anchor\" id=\"SetsChap\"></a>\n",
    "Sammlungen von *unterschiedlichen* Elementen (Definition üder geschweifte Klammern)."
   ]
  },
  {
   "cell_type": "code",
   "execution_count": 64,
   "metadata": {},
   "outputs": [
    {
     "name": "stdout",
     "output_type": "stream",
     "text": [
      "<class 'dict'>\n",
      "{1, 2}\n",
      "2\n",
      "True\n",
      "False\n",
      "{1, 2, 'Drei'}\n",
      "<class 'set'>\n",
      "{1, 2, 3, 4}\n"
     ]
    }
   ],
   "source": [
    "prime_below_10 = {2,3,5,7}             #Ein Set\n",
    "kein_set_sondern_ein_dictionary = {}   #Ein leeres Set kann so nicht angegeben werden.\n",
    "                                       #Das ist nämlich ein leeres Dictionary.\n",
    "print(type(kein_set_sondern_ein_dictionary))\n",
    "leeres_set = set()                      #Leere Sets müssen so erzeugt werden\n",
    "\n",
    "leeres_set.add(1)\n",
    "leeres_set.add(2)\n",
    "leeres_set.add(2) #Da die 2 schon drin ist, ändert das nichts\n",
    "print(leeres_set)\n",
    "print(len(leeres_set))\n",
    "print(2 in leeres_set) #True\n",
    "print(3 in leeres_set) #False\n",
    "\n",
    "leeres_set.add(\"Drei\") #In einem Set dürfen unterschiedliche Typen sein\n",
    "print(leeres_set)\n",
    "print(type(leeres_set))\n",
    "\n",
    "set2 = {1,2,3,4,1,2} #Kann man machen. Die Doppelten gehen einfach verloren.\n",
    "print(set2)\n",
    "\n",
    "#print(set2[0]) #Diese Form des Zugriffs geht bei Sets nicht"
   ]
  },
  {
   "cell_type": "markdown",
   "metadata": {},
   "source": [
    "Sets werden aus zwei Gründen verwendet:\n",
    "* *in* ist eine sehr schnelle Operation auf Sets. Bei großen *Collections* ist *in* hier viel schneller als bei *Lists*\n",
    "* Um die verschiedenen Elemente in einer *Collection* zu bestimmen."
   ]
  },
  {
   "cell_type": "code",
   "execution_count": 65,
   "metadata": {},
   "outputs": [
    {
     "name": "stdout",
     "output_type": "stream",
     "text": [
      "Anzahl der Elemente in der Liste: 6\n",
      "Anzahl der Elemente im Set: 3\n"
     ]
    }
   ],
   "source": [
    "# Schnelligkeit\n",
    "stopwords_list = [\"a\", \"an\", \"at\", \"yet\", \"you\"]#Liste (tun wir mal so, als ob die groß sei)\n",
    "\n",
    "\"zip\" in stopwords_list #False, allerdings wird hier jedes Element überprüft\n",
    "\n",
    "stopwords_set = set(stopwords_list)\n",
    "\"zip\" in stopwords_list # sehr schnell\n",
    "\n",
    "#Unterschiedliche Elemente\n",
    "item_list = [1,2,3,1,2,3] # List\n",
    "print(\"Anzahl der Elemente in der Liste: \" + str(len(item_list)))\n",
    "\n",
    "item_set = set(item_list)\n",
    "print(\"Anzahl der Elemente im Set: \" + str(len(item_set)))"
   ]
  },
  {
   "cell_type": "markdown",
   "metadata": {},
   "source": [
    "Zum [Inhaltsverzeichnis](#InhaltsverzeichnisVZ)"
   ]
  },
  {
   "cell_type": "markdown",
   "metadata": {},
   "source": [
    "## Kontrollfluß <a class=\"anchor\" id=\"Kontrollfluß\"></a>\n",
    "### if"
   ]
  },
  {
   "cell_type": "code",
   "execution_count": 66,
   "metadata": {},
   "outputs": [
    {
     "name": "stdout",
     "output_type": "stream",
     "text": [
      "kleiner 2\n",
      "odd\n"
     ]
    }
   ],
   "source": [
    "x = 1\n",
    "\n",
    "if x < 2:\n",
    "    message = \"kleiner 2\"\n",
    "elif x > 3:\n",
    "    mesage = \"größer 3\"\n",
    "else:\n",
    "    message = \"gleich 2\"\n",
    "    \n",
    "print(message)\n",
    "\n",
    "# Mann kann ein ternäres if-then-else in einer Zeile ausdrücken:\n",
    "parity = \"even\" if x % 2 == 0 else \"odd\"\n",
    "print(parity)"
   ]
  },
  {
   "cell_type": "markdown",
   "metadata": {},
   "source": [
    "### while"
   ]
  },
  {
   "cell_type": "code",
   "execution_count": 67,
   "metadata": {},
   "outputs": [
    {
     "name": "stdout",
     "output_type": "stream",
     "text": [
      "0 ist kleiner als 10\n",
      "1 ist kleiner als 10\n",
      "2 ist kleiner als 10\n",
      "3 ist kleiner als 10\n",
      "4 ist kleiner als 10\n",
      "5 ist kleiner als 10\n",
      "6 ist kleiner als 10\n",
      "7 ist kleiner als 10\n",
      "8 ist kleiner als 10\n",
      "9 ist kleiner als 10\n"
     ]
    }
   ],
   "source": [
    "x = 0\n",
    "while x < 10:\n",
    "    print(f\"{x} ist kleiner als 10\") #siehe auch f-Strings weiter oben\n",
    "    x += 1"
   ]
  },
  {
   "cell_type": "markdown",
   "metadata": {},
   "source": [
    "### for\n",
    "Statt *while*-Schleifen werden in Python meist *for*-Schleifen mit *in* verwendet."
   ]
  },
  {
   "cell_type": "code",
   "execution_count": 68,
   "metadata": {},
   "outputs": [
    {
     "name": "stdout",
     "output_type": "stream",
     "text": [
      "range(0, 10)\n",
      "<class 'range'>\n",
      "0 1 2 3 4 5 6 7 8 9 "
     ]
    }
   ],
   "source": [
    "r = range(10) #Range ist ein eigener Type (Klasse?) - heir mit 10 Werten von 0 bis 9\n",
    "print(r)\n",
    "print(type(r))\n",
    "for x in r:\n",
    "    print(x, end = \" \")"
   ]
  },
  {
   "cell_type": "markdown",
   "metadata": {},
   "source": [
    "### continue/break"
   ]
  },
  {
   "cell_type": "code",
   "execution_count": 69,
   "metadata": {},
   "outputs": [
    {
     "name": "stdout",
     "output_type": "stream",
     "text": [
      "0 1 2 4 "
     ]
    }
   ],
   "source": [
    "for x in range(10):\n",
    "    if x == 3:\n",
    "        continue # sofort in die nächste Iteration wechseln\n",
    "    if x == 5:\n",
    "        break    #Schleife abbrechen\n",
    "    print(x, end = \" \")"
   ]
  },
  {
   "cell_type": "markdown",
   "metadata": {},
   "source": [
    "Zum [Inhaltsverzeichnis](#InhaltsverzeichnisVZ)"
   ]
  },
  {
   "cell_type": "markdown",
   "metadata": {},
   "source": [
    "## Truthness <a class=\"anchor\" id=\"Truthness\"></a>\n",
    "* **Vorbemerkung 1**: *None* stellt in Python für einen nichtexistierenden Wert (ähnlich wie null in Java).\n",
    "* **Vorbemerkung 2** (https://cito.github.io/byte_of_python/read/assert-statement.html): *Die assert-Anweisung wird benutzt, um sicherzustellen, dass eine bestimmte Voraussetzung, die Sie machen, wirklich erfüllt ist. Zum Beispiel könnten Sie von der Voraussetzung ausgehen, dass sich in einer bestimmten Liste, die Sie benutzen, mindestens ein Element befindet. Wenn Sie überprüfen wollen, ob dies wirklich stimmt und andernfalls einen Fehler ausgeben wollen, dann ist eine assert-Anweisung hierfür ideal. Wenn die Überprüfung mittels der assert-Anweisung fehlschlägt, dann wird ein AssertionError ausgelöst.*"
   ]
  },
  {
   "cell_type": "code",
   "execution_count": 70,
   "metadata": {},
   "outputs": [
    {
     "name": "stdout",
     "output_type": "stream",
     "text": [
      "AssertionError: x ist nicht False\n",
      "AssertionError: x ist nicht None\n"
     ]
    }
   ],
   "source": [
    "x = None\n",
    "assert x == None #Nicht python-like, um auf None zu überprüfen\n",
    "assert x is None #python-like, um auf None zu überprüfen\n",
    "\n",
    "try:\n",
    "    assert x is False\n",
    "except AssertionError:\n",
    "    print(\"AssertionError: x ist nicht False\")\n",
    "\n",
    "x = 4\n",
    "try:\n",
    "    assert x is None\n",
    "except AssertionError:\n",
    "    print(\"AssertionError: x ist nicht None\")"
   ]
  },
  {
   "cell_type": "markdown",
   "metadata": {},
   "source": [
    "### truthy und falsy\n",
    "Man betrachte die folgenden Beispiele:"
   ]
  },
  {
   "cell_type": "code",
   "execution_count": 71,
   "metadata": {},
   "outputs": [
    {
     "name": "stdout",
     "output_type": "stream",
     "text": [
      "x mit Wert 2 ist truthy\n",
      "x mit Wert 0 ist falsy\n"
     ]
    }
   ],
   "source": [
    "x = 2\n",
    "if x:\n",
    "    print(\"x mit Wert 2 ist truthy\")\n",
    "else:\n",
    "    print(\"x mit Wert 2 ist falsy\")\n",
    "    \n",
    "x = 0\n",
    "if x:\n",
    "    print(\"x mit Wert 0 ist truthy\")\n",
    "else:\n",
    "    print(\"x mit Wert 0 ist falsy\")"
   ]
  },
  {
   "cell_type": "markdown",
   "metadata": {},
   "source": [
    "Folgende Werte sind *falsy*: False, None, [], {}, \"\", set(), 0, 0.0\n",
    "\n",
    "https://www.freecodecamp.org/news/truthy-and-falsy-values-in-python/:\n",
    "> In Python, individual values can evaluate to either True or False. They do not necessarily have to be part of a larger expression to evaluate to a truth value because they already have one that has been determined by the rules of the Python language.\n",
    "> The basic rules are:\n",
    "> * Values that evaluate to False are considered Falsy.\n",
    "> * Values that evaluate to True are considered Truthy.\n",
    "> When we use a value as part of a larger expression, or as an if or while condition, we are using it in a boolean context.\n",
    ">\n",
    "> You can think of a **boolean context** as a particular \"part\" of your code that requires a value to be either True or False to make sense.\n",
    ">\n",
    "> For example, (see below) the condition after the if keyword or after the while keyword has to evaluate to either True or False\n",
    "\n",
    "Man betrachte aber auch folgende, nicht in einem **boolean context** formulierten logischen Vernüpfungen:"
   ]
  },
  {
   "cell_type": "code",
   "execution_count": 72,
   "metadata": {},
   "outputs": [
    {
     "name": "stdout",
     "output_type": "stream",
     "text": [
      "None:\n",
      "False\n",
      "None\n",
      "None\n",
      "True\n",
      "True\n",
      "---\n",
      "[]:\n",
      "False\n",
      "[]\n",
      "[]\n",
      "True\n",
      "True\n"
     ]
    }
   ],
   "source": [
    "\n",
    "print(\"None:\")\n",
    "print(None==False) #False - None ist per se erst einmal nicht das selbe wie False\n",
    "test = None and True #Wird zu None\n",
    "print(test)\n",
    "test = True and None #Wird zu None\n",
    "print(test)\n",
    "test = None or True #Wird zu True\n",
    "print(test)\n",
    "test = True or None #Wird zu True\n",
    "print(test)\n",
    "\n",
    "print(\"---\")\n",
    "print(\"[]:\")\n",
    "print([]==False) #False - [] ist per se erst einmal nicht das selbe wie False\n",
    "test = [] and True #Wird zu []\n",
    "print(test)\n",
    "test = True and [] #Wird zu []\n",
    "print(test)\n",
    "test = [] or True #Wird zu True\n",
    "print(test)\n",
    "test = True or [] #Wird zu True\n",
    "print(test)"
   ]
  },
  {
   "cell_type": "markdown",
   "metadata": {},
   "source": [
    "### all und any\n",
    "Den Funktionen all und any können iterierbare Werte übergeben werden: Es gilt:\n",
    "* *all* liefert True, wenn alle Elemente *truthy* sind\n",
    "* *any* liefert True, wenn mindestens ein Element *truthy\" ist\n"
   ]
  },
  {
   "cell_type": "code",
   "execution_count": 73,
   "metadata": {},
   "outputs": [
    {
     "name": "stdout",
     "output_type": "stream",
     "text": [
      "True\n",
      "False\n",
      "True\n",
      "True\n",
      "False\n"
     ]
    }
   ],
   "source": [
    "print(all([True, 1, {3}]))\n",
    "print(all([True, 1, {}]))\n",
    "print(any([True, 1, {}]))\n",
    "print(all([])) #Liste enthält kein Element, also sind alle truthy, bzw. keins falsy\n",
    "print(any([])) #Liste enthält kein Element, also ist keines truthy"
   ]
  },
  {
   "cell_type": "markdown",
   "metadata": {},
   "source": [
    "Zum [Inhaltsverzeichnis](#InhaltsverzeichnisVZ)"
   ]
  },
  {
   "cell_type": "markdown",
   "metadata": {},
   "source": [
    "## Sorting (Lists) <a class=\"anchor\" id=\"Sorting_(Lists)\"></a>\n",
    "Listen können auf zwei Arten sortiert werden:\n",
    "* Mittels der Methode *sort()* (*in place*), die direkt auf einer Liste aufgerufen wird und diese verändert.\n",
    "* Mittels der Funktion *sorted()*, die die Ursprungsliste nicht verändert, sondern eine sortierte Liste zurückgibt."
   ]
  },
  {
   "cell_type": "code",
   "execution_count": 74,
   "metadata": {},
   "outputs": [
    {
     "name": "stdout",
     "output_type": "stream",
     "text": [
      "[4, 1, 2, 3]\n",
      "[1, 2, 3, 4]\n",
      "[1, 2, 3, 4]\n",
      "['Eine', 'List', 'Liste', 'Strings', 'als', 'interessanten', 'mit']\n"
     ]
    }
   ],
   "source": [
    "x = [4, 1, 2, 3]\n",
    "y = sorted(x)\n",
    "print(x)\n",
    "print(y)\n",
    "x.sort()\n",
    "print(x)\n",
    "\n",
    "z = [\"Eine\", \"Liste\", \"mit\", \"interessanten\", \"Strings\", \"als\", \"List\"]\n",
    "z.sort() #Alphabetisch - Großbuchstaben sind kleiner als Kleinbuchstaben\n",
    "print(z)"
   ]
  },
  {
   "cell_type": "markdown",
   "metadata": {},
   "source": [
    "*sort()* und *sorted* haben auch Parameter:"
   ]
  },
  {
   "cell_type": "code",
   "execution_count": 75,
   "metadata": {},
   "outputs": [
    {
     "name": "stdout",
     "output_type": "stream",
     "text": [
      "[-4, 3, -2, 1]\n",
      "[-4, 3, -2, 1]\n"
     ]
    }
   ],
   "source": [
    "x = [-4, 1, -2, 3]\n",
    "y = sorted(x, key=abs, reverse=True) #key kann eine Funktion übergeben werden, die vor dem sortieren angewendet\n",
    "                                     #wird, die Elemente aber nicht verändert\n",
    "print(y)\n",
    "x.sort(key=abs, reverse=True)\n",
    "print(x)"
   ]
  },
  {
   "cell_type": "markdown",
   "metadata": {},
   "source": [
    "Noch ein Beispiel:"
   ]
  },
  {
   "cell_type": "code",
   "execution_count": 76,
   "metadata": {},
   "outputs": [
    {
     "name": "stdout",
     "output_type": "stream",
     "text": [
      "Counter({'Text': 3, 'ist': 1, 'ein': 1, 'mit': 1})\n",
      "[('Text', 3), ('ist', 1), ('ein', 1), ('mit', 1)]\n"
     ]
    }
   ],
   "source": [
    "document_as_list = \"Text ist ein Text mit Text\"\n",
    "document = document_as_list.split()\n",
    "word_counts = Counter(document)\n",
    "print(word_counts)\n",
    "\n",
    "wc = sorted(word_counts.items(),\n",
    "            key=lambda word_and_count: word_and_count[1],\n",
    "            reverse=True)\n",
    "print(wc)"
   ]
  },
  {
   "cell_type": "markdown",
   "metadata": {},
   "source": [
    "Wie werden eigentlich heterogenen Listen sortiert? Geht nicht (immer)!"
   ]
  },
  {
   "cell_type": "code",
   "execution_count": 77,
   "metadata": {},
   "outputs": [
    {
     "name": "stdout",
     "output_type": "stream",
     "text": [
      "TypeError: '<' not supported between instances of 'float' and 'str'\n"
     ]
    }
   ],
   "source": [
    "hetero_list = [\"string\",0.1,True]\n",
    "try:\n",
    "    hetero_list.sort()\n",
    "    print(hetero_list)\n",
    "except TypeError:\n",
    "    print(\"TypeError: '<' not supported between instances of 'float' and 'str'\")"
   ]
  },
  {
   "cell_type": "markdown",
   "metadata": {},
   "source": [
    "Zum [Inhaltsverzeichnis](#InhaltsverzeichnisVZ)"
   ]
  },
  {
   "cell_type": "markdown",
   "metadata": {},
   "source": [
    "## List Comprehension <a class=\"anchor\" id=\"List_Comprehension\"></a>\n",
    "* https://www.w3schools.com/python/python_lists_comprehension.asp:\n",
    "    * List comprehension offers a shorter syntax when you want to create a new list based on the values of an existing list.\n",
    "    * Without list comprehension you will have to write a for statement with a conditional test inside:"
   ]
  },
  {
   "cell_type": "code",
   "execution_count": 78,
   "metadata": {},
   "outputs": [
    {
     "name": "stdout",
     "output_type": "stream",
     "text": [
      "['apple', 'banana', 'mango']\n",
      "['apple', 'banana', 'mango']\n"
     ]
    }
   ],
   "source": [
    "fruits = [\"apple\", \"banana\", \"cherry\", \"kiwi\", \"mango\"]\n",
    "newlist1 = []\n",
    "\n",
    "for x in fruits:\n",
    "  if \"a\" in x:\n",
    "    newlist1.append(x)\n",
    "\n",
    "print(newlist1)\n",
    "\n",
    "newlist2 = [x for x in fruits if \"a\" in x]\n",
    "\n",
    "print(newlist2)"
   ]
  },
  {
   "cell_type": "code",
   "execution_count": 79,
   "metadata": {},
   "outputs": [
    {
     "name": "stdout",
     "output_type": "stream",
     "text": [
      "[0, 2, 4]\n"
     ]
    }
   ],
   "source": [
    "even_numbers = [x for x in range(5) if x % 2 == 0]\n",
    "\n",
    "print(even_numbers)"
   ]
  },
  {
   "cell_type": "code",
   "execution_count": 80,
   "metadata": {},
   "outputs": [
    {
     "name": "stdout",
     "output_type": "stream",
     "text": [
      "[0, 1, 4, 9, 16]\n"
     ]
    }
   ],
   "source": [
    "squares = [x * x for x in range(5)]\n",
    "print(squares)"
   ]
  },
  {
   "cell_type": "markdown",
   "metadata": {},
   "source": [
    "Auf eine ähnliche Art und Weise können Listen in *Dictionaries* oder *Sets* verwandelt werden:"
   ]
  },
  {
   "cell_type": "code",
   "execution_count": 81,
   "metadata": {},
   "outputs": [
    {
     "name": "stdout",
     "output_type": "stream",
     "text": [
      "{0: 0, 1: 1, 2: 4, 3: 9, 4: 16}\n"
     ]
    }
   ],
   "source": [
    "square_dict = {x: x*x for x in range(5)} #Ergebnis ist ein Dictionary\n",
    "print(square_dict)"
   ]
  },
  {
   "cell_type": "code",
   "execution_count": 82,
   "metadata": {},
   "outputs": [
    {
     "name": "stdout",
     "output_type": "stream",
     "text": [
      "{1}\n"
     ]
    }
   ],
   "source": [
    "square_set = {x*x for x in [-1,1]} #Ergebnis ist ein Set\n",
    "print(square_set)"
   ]
  },
  {
   "cell_type": "markdown",
   "metadata": {},
   "source": [
    "Wenn der for-Wert keine Rolle spielt:"
   ]
  },
  {
   "cell_type": "code",
   "execution_count": 83,
   "metadata": {},
   "outputs": [
    {
     "name": "stdout",
     "output_type": "stream",
     "text": [
      "{0}\n"
     ]
    }
   ],
   "source": [
    "square_set = {0 for _ in [-1,1]}\n",
    "print(square_set)"
   ]
  },
  {
   "cell_type": "markdown",
   "metadata": {},
   "source": [
    "Zum [Inhaltsverzeichnis](#InhaltsverzeichnisVZ)"
   ]
  },
  {
   "cell_type": "markdown",
   "metadata": {},
   "source": [
    "## Automatisches Testen + *assert* <a class=\"anchor\" id=\"Automatisches_Testen_+_*assert*\"></a>\n",
    "* Es gibt für Python ausgereifte Test-Frameworks. Auf diese wird an dieser Stelle nicht eingegangen.\n",
    "* Stattdessen werden *asserts* eingesetzt\n",
    "* Wenn der Ausdruck in einen *assert* sich nicht *truthy* ist, wird ein *AssertionError* geworfen - der, wenn er nicht abgefagen wird, zu einem Programmabbruch führt\n",
    "* Bei *asserts* kann eine Nachricht für den Fehlerfall definiert werden.\n",
    "* Für Details (z.B zur Built-in-Variable *\\_\\_debug\\_\\_*) siehe https://docs.python.org/3/reference/simple_stmts.html#assert\n",
    "\n",
    "### Achtung\n",
    "* https://stackoverflow.com/questions/5142418/what-is-the-use-of-assert-in-python: Do **not** use parenthesis to call assert like a function. It is a statement. If you do assert(condition, message) you'll be running the assert with a (condition, message) tuple as first parameter."
   ]
  },
  {
   "cell_type": "code",
   "execution_count": 84,
   "metadata": {},
   "outputs": [],
   "source": [
    "x = 2\n",
    "assert x == 2, \"x sollte gleich 2 sein, ist es aber nicht\"\n",
    "\n",
    "x = 3\n",
    "#assert x == 2, \"x sollte gleich 2 sein, ist es aber nicht\"\n",
    "#Ergebnis wäre:\n",
    "#---------------------------------------------------------------------------\n",
    "#AssertionError                            Traceback (most recent call last)\n",
    "#Input In [276], in <cell line: 5>()\n",
    "#      2 assert x == 2, \"x sollte gleich 2 sein, ist es aber nicht\"\n",
    "#      4 x = 3\n",
    "#----> 5 assert x == 2, \"x sollte gleich 2 sein, ist es aber nicht\"\n",
    "#\n",
    "#AssertionError: x sollte gleich 2 sein, ist es aber nicht"
   ]
  },
  {
   "cell_type": "markdown",
   "metadata": {},
   "source": [
    "Man kann *asserts* verwenden, um Funktionen zu testen:"
   ]
  },
  {
   "cell_type": "code",
   "execution_count": 85,
   "metadata": {},
   "outputs": [],
   "source": [
    "def smallest_item(xs):\n",
    "    return min(xs)\n",
    "\n",
    "assert smallest_item([10,20,5,40]) == 5\n",
    "assert smallest_item([1, 0, -1, 2]) == -1"
   ]
  },
  {
   "cell_type": "markdown",
   "metadata": {},
   "source": [
    "*asserts* kann man auch zum testen von Vorbedingungen verwenden:"
   ]
  },
  {
   "cell_type": "code",
   "execution_count": 86,
   "metadata": {},
   "outputs": [],
   "source": [
    "def smallest_item(xs):\n",
    "    assert xs, \"Eine leere Liste hat kein kleinstes Element\" #xs=[] ist falsy\n",
    "    return min(xs)\n",
    "\n",
    "#smallest_item([])\n",
    "#Ergebnis wäre:\n",
    "#---------------------------------------------------------------------------\n",
    "#AssertionError                            Traceback (most recent call last)\n",
    "#Input In [137], in <cell line: 5>()\n",
    "#      2     assert xs, \"Eine leere Liste hat kein kleinstes Element\" #xs=[] ist falsy\n",
    "#      3     return min(xs)\n",
    "#----> 5 smallest_item([])\n",
    "#\n",
    "#Input In [137], in smallest_item(xs)\n",
    "#      1 def smallest_item(xs):\n",
    "#----> 2     assert xs, \"Eine leere Liste hat kein kleinstes Element\" #xs=[] ist falsy\n",
    "#      3     return min(xs)\n",
    "#\n",
    "#AssertionError: Eine leere Liste hat kein kleinstes Element"
   ]
  },
  {
   "cell_type": "markdown",
   "metadata": {},
   "source": [
    "Zum [Inhaltsverzeichnis](#InhaltsverzeichnisVZ)"
   ]
  },
  {
   "cell_type": "markdown",
   "metadata": {},
   "source": [
    "## Objektorientierung <a class=\"anchor\" id=\"Objektorientierung\"></a>\n",
    "https://www.hdm-stuttgart.de/~maucher/Python/html/Klassen.html:\n",
    "> Python unterstützt auch die objektorientierte Programmierung. Es können Klassen definiert werden, die Attribute und Methoden kapseln. Durch die gemeinsame Definition von Attributen und Methoden innerhalb des Namensraums einer Klasse wird Modularisierung und Zugriffskontrolle erreicht. Da die Klassenarchitektur möglichst an die reale Welt angepasst sein sollte (d.h. was in der realen Welt zusammengehört, sollte auch innerhalb einer Klasse modelliert werden) wird die Verständlichkeit des Codes gegenüber anderen Programmieransätzen wie z.B. der prozeduralen Programmierung deutlich verbessert. Wie in anderen Programmiersprachen, definieren auch in Python Klassen nur einen abstrakten Bauplan. Konkrete Realisierungen von Klassen werden Objekte, oder Instanzen genannt. Da von einer Klasse beliebig viele Instanzen erzeugt werden können, wird mit der Objektorientierung auch der Vorteil des Code-Reuse erreicht. Jedes Objekt einer Klasse bildet einen eigenen Namensraum (abgesehen von den statischen Attributen). Attribute und Methoden können von aussen zugänglich (public) oder nicht zugänglich (privat) sein. Python unterstützt auch das Konzept der Vererbung, welches sowohl Code-Reuse als auch Verständlichkeit fördert. Im Gegensatz zu Java ist in Python Mehrfachvererbung möglich. Ein weiterer Unterschied zu Java ist, dass in Python alles Objekt ist, d.h. es gibt keine primitve Typen, selbst ganze Zahlen, oder boolsche Variablen sind in Python Objekte.\n",
    "\n",
    "\n",
    "Also:\n",
    "* Phython erlaubt das Definieren von Klassen (Kapselung von Daten und Funktionen, die auf diesen Daten arbeiten).\n",
    "* Eine Klasse kann keine oder mehrere *member functions* enthalten.\n",
    "* Jede dieser Funktionen bekommt bei seiner Definition als erstes Argument einen Verweis auf das Objekt selber (*self*). Wird bei der Verwendung nicht benutzt.\n",
    "* Methoden, bei denen der Name mit einem doppelten Underscore startet und endet sind sogenannte *magic* Methoden, manchmal auch *dunder* (double underscore) genannt. Sie repräsentieren ein \"spezielles\" Verhalten.\n",
    "\n",
    "Z.B.:"
   ]
  },
  {
   "cell_type": "code",
   "execution_count": 87,
   "metadata": {},
   "outputs": [
    {
     "name": "stdout",
     "output_type": "stream",
     "text": [
      "CountingClicker(count=0)\n",
      "<class '__main__.CountingClicker'>\n",
      "3\n"
     ]
    }
   ],
   "source": [
    "class CountingClicker:\n",
    "    \"\"\"Auch Klassen können, genauso wie Funktionen Docstrings enthalten\"\"\"\n",
    "    \n",
    "    def __init__(self, count = 0): #Der Konstruktor - wird aber nicht derart aufgerufen (s.u.)!\n",
    "        self.count = count #Instanzattribute werden im Konstruktor definiert und mit Initialwerten versehen.\n",
    "        \n",
    "    def __repr__(self): #Erzeugt die String-Repräsentation eines Exemplars. Wird z.B. von print() verwendet.\n",
    "        return f\"CountingClicker(count={self.count})\"\n",
    "    \n",
    "    def click(self, num_times = 1):\n",
    "        self.count += num_times\n",
    "        \n",
    "    def read(self):       #Strenggenommen nach des allgemeinen Regeln der oo sollte die Methode getCount() heißen\n",
    "        return self.count\n",
    "    \n",
    "    def reset(self):\n",
    "        self.count=0\n",
    "    \n",
    "    \n",
    "    \n",
    "cc = CountingClicker()\n",
    "print(cc)\n",
    "print(type(cc))\n",
    "\n",
    "cc.click()\n",
    "cc.click(2)\n",
    "print(cc.read())\n",
    "        "
   ]
  },
  {
   "cell_type": "markdown",
   "metadata": {},
   "source": [
    "Nun kann man die Klasse auch mittels *asserts* testen:"
   ]
  },
  {
   "cell_type": "code",
   "execution_count": 88,
   "metadata": {},
   "outputs": [],
   "source": [
    "cc = CountingClicker()\n",
    "assert cc.read() == 0\n",
    "cc.click()\n",
    "cc.click()\n",
    "assert cc.read() == 2\n",
    "cc.reset()\n",
    "assert cc.read() == 0"
   ]
  },
  {
   "cell_type": "markdown",
   "metadata": {},
   "source": [
    "### Vererbung"
   ]
  },
  {
   "cell_type": "code",
   "execution_count": 89,
   "metadata": {},
   "outputs": [],
   "source": [
    "class NoResetClicker(CountingClicker):\n",
    "    #Diese Klasse hat die selben Methoden wie CountingClicker\n",
    "    \n",
    "    #Außer, dass sie die Reset-Methode so verändert, dass diese nichts tut\n",
    "    def reset(self):\n",
    "        pass #https://www.tutorialspoint.com/python/python_pass_statement.htm\n",
    "             #It is used when a statement is required syntactically but you do not want any command or code to execute.\n",
    "\n",
    "nrcc = NoResetClicker()\n",
    "assert nrcc.read() == 0\n",
    "nrcc.click()\n",
    "nrcc.click()\n",
    "assert nrcc.read() == 2\n",
    "nrcc.reset()\n",
    "assert nrcc.read() == 2"
   ]
  },
  {
   "cell_type": "markdown",
   "metadata": {},
   "source": [
    "* https://docs.python.org/3/tutorial/classes.html#multiple-inheritance:\n",
    "    * Python supports a form of multiple inheritance as well.\n",
    "    * A class definition with multiple base classes looks like this: class DerivedClassName(Base1, Base2, Base3):\n",
    "    * For most purposes, in the simplest cases, you can think of the search for attributes inherited from a parent class as depth-first, left-to-right, not searching twice in the same class where there is an overlap in the hierarchy. Thus, if an attribute is not found in DerivedClassName, it is searched for in Base1, then (recursively) in the base classes of Base1, and if it was not found there, it was searched for in Base2, and so on.\n",
    "    * In fact, it is slightly more complex than that; the method resolution order changes dynamically to support cooperative calls to super(). Siehe https://docs.python.org/3/tutorial/classes.html#multiple-inheritance"
   ]
  },
  {
   "cell_type": "markdown",
   "metadata": {},
   "source": [
    "### Konstruktoren\n",
    "\n",
    "* https://www.geeksforgeeks.org/constructors-in-python/:\n",
    "    * **Types of constructors**: \n",
    "        * **default constructor**: The default constructor is a simple constructor which doesn’t accept any arguments. Its definition has only one argument which is a reference to the instance being constructed.\n",
    "        * **parameterized constructor**: constructor with parameters is known as parameterized constructor. The parameterized constructor takes its first argument as a reference to the instance being constructed known as self and the rest of the arguments are provided by the programmer.\n",
    "        \n",
    "    * **Advantages of using constructors in Python**:\n",
    "        * **Initialization of objects**: Constructors are used to initialize the objects of a class. They allow you to set default values for attributes or properties, and also allow you to initialize the object with custom data.\n",
    "        * **Easy to implement**: Constructors are easy to implement in Python, and can be defined using the __init__() method.\n",
    "        * **Better readability**: Constructors improve the readability of the code by making it clear what values are being initialized and how they are being initialized.\n",
    "        * **Encapsulation**: Constructors can be used to enforce encapsulation, by ensuring that the object’s attributes are initialized correctly and in a controlled manner.\n",
    "        \n",
    "    * **Disadvantages of using constructors in Python**:\n",
    "        * **Overloading not supported**: Unlike other object-oriented languages, Python does not support method overloading. This means that you cannot have multiple constructors with different parameters in a single class.\n",
    "        * **Limited functionality**: Constructors in Python are limited in their functionality compared to constructors in other programming languages. For example, Python does not have constructors with access modifiers like public, private or protected.\n",
    "        * **Constructors may be unnecessary**: In some cases, constructors may not be necessary, as the default values of attributes may be sufficient. In these cases, using a constructor may add unnecessary complexity to the code.\n",
    "   \n",
    "\n",
    "Eine Suoerklasse kann natürlich auch auf den Konstruktor seiner Superklasse zugreifen:"
   ]
  },
  {
   "cell_type": "code",
   "execution_count": 90,
   "metadata": {},
   "outputs": [
    {
     "data": {
      "text/plain": [
       "16"
      ]
     },
     "execution_count": 90,
     "metadata": {},
     "output_type": "execute_result"
    }
   ],
   "source": [
    "# https://realpython.com/python-super/\n",
    "\n",
    "class Rectangle:\n",
    "    def __init__(self, length, width):\n",
    "        self.length = length\n",
    "        self.width = width\n",
    "\n",
    "    def area(self):\n",
    "        return self.length * self.width\n",
    "\n",
    "    def perimeter(self):\n",
    "        return 2 * self.length + 2 * self.width\n",
    "\n",
    "class Square:\n",
    "    def __init__(self, length):\n",
    "        self.length = length\n",
    "\n",
    "    def area(self):\n",
    "        return self.length * self.length\n",
    "\n",
    "    def perimeter(self):\n",
    "        return 4 * self.length\n",
    "    \n",
    "#Besser:\n",
    "class Rectangle2:\n",
    "    def __init__(self, length, width):\n",
    "        self.length = length\n",
    "        self.width = width\n",
    "\n",
    "    def area(self):\n",
    "        return self.length * self.width\n",
    "\n",
    "    def perimeter(self):\n",
    "        return 2 * self.length + 2 * self.width\n",
    "\n",
    "# Here we declare that the Square class inherits from the Rectangle class\n",
    "class Square2(Rectangle2):\n",
    "    def __init__(self, length):\n",
    "        super().__init__(length, length)\n",
    "        \n",
    "square = Square2(4)\n",
    "square.area()"
   ]
  },
  {
   "cell_type": "markdown",
   "metadata": {},
   "source": [
    "* https://realpython.com/python-super/:\n",
    "    * Because the Square and Rectangle .\\_\\_init\\_\\_() methods are so similar, you can simply call the superclass’s .\\_\\_init\\_\\_() method (Rectangle.\\_\\_init\\_\\_()) from that of Square by using super(). This sets the .length and .width attributes even though you just had to supply a single length parameter to the Square constructor.\n",
    "\n",
    "Für weitere Informationen zu *super()* siehe https://realpython.com/python-super/"
   ]
  },
  {
   "cell_type": "markdown",
   "metadata": {},
   "source": [
    "### Sichtbarkeiten\n",
    "https://www.hdm-stuttgart.de/~maucher/Python/html/Klassen.html:\n",
    "> Wie oben bereits erwähnt werden innerhalb von Klassen Attribute und Methoden definiert. Die Sichtbarkeit von Methoden und Attributen ausserhalb der Klasse in der sie definiert sind kann vom Programmierer eingestellt werden. Ein wesentliches Prinzip der objektorientierten Programmierung ist es, Attribute nur über Methoden von aussen zugänglich zu machen, d.h. auf Attribute sollte aus Gründen der Sicherheit und Zugriffskontrolle von ausserhalb nicht direkt zugegriffen werden, sondern nur über Methoden, die u.a. die Zulässigkeit des Zugriffs kontrollieren. Python unterstützt folgende 3 Sichtbarkeitsstufen:\n",
    "> * **public** Attribute und Methoden sind von ausserhalb direkt über eine Referenz auf das Objekt der Klasse zugänglich. Beispiel: ref.att und ref.meth() definieren den Zugriff auf ein public Attribut att und eine public Methode meth(), die in einer Klasse definiert sind, von deren Typ das Objekt ist, auf welches ref zeigt. Default, also ohne spezielle Kennzeichnung, sind in Python alle Attribute und Methoden public.\n",
    "> * **private** Attribute und Methoden sind von aussen nicht sichtbar. Attribute und Methoden werden als private deklariert, indem man ihren Namen mit dem **Prefix __ (doppelter Unterstrich)** versieht.\n",
    "> * **protected** Attribute und Methoden werden gekennzeichnet, indem man dem **Namen einen einfachen Unterstrich _ voranstellt**. Technisch ist für diese Attribute und Methoden der Zugriff von aussen genauso möglich wie im Fall public. Wird ein Attribut oder eine Methode als protected definiert, so soll das lediglich andere Programmierer darauf hinweisen, dass sie keinen direkten Zugriff von aussen implementieren sollen. **Es handelt sich hierbei also nur um eine Konvention oder Empfehlung**."
   ]
  },
  {
   "cell_type": "code",
   "execution_count": 91,
   "metadata": {},
   "outputs": [
    {
     "data": {
      "text/plain": [
       "20"
      ]
     },
     "execution_count": 91,
     "metadata": {},
     "output_type": "execute_result"
    }
   ],
   "source": [
    "#Beispiel nach https://www.tutorialsteacher.com/python/public-private-protected-modifiers\n",
    "class Student:\n",
    "    __schoolName = 'XYZ School' # private class attribute - Details zu Klassenatributen siehe nächster Abschnitt\n",
    "\n",
    "    def __init__(self, name, age):\n",
    "        self.__name=name  # private instance attribute\n",
    "        self._salary=age # prtected instance attribute\n",
    "    def __display(self):  # private method\n",
    "        print('This is private method.')\n",
    "        \n",
    "st = Student(\"Tom\",20)\n",
    "st._salary #Sollte nicht gemacht werden\n",
    "#st.__name\n",
    "#Würde zu Folgendem führen:\n",
    "#---------------------------------------------------------------------------\n",
    "#AttributeError                            Traceback (most recent call last)\n",
    "#Input In [499], in <cell line: 13>()\n",
    "#     11 st = Student(\"Tom\",20)\n",
    "#     12 print(st._salary) #Sollte nicht gemacht werden\n",
    "#---> 13 st.__name\n",
    "#\n",
    "#AttributeError: 'Student' object has no attribute '__name'"
   ]
  },
  {
   "cell_type": "markdown",
   "metadata": {},
   "source": [
    "### Attribute\n",
    "https://www.hdm-stuttgart.de/~maucher/Python/html/Klassen.html:\n",
    "> Wie in anderen Programmiersprachen wird auch in Python zwischen Instanzattributen und Klassenattributen (statische Attribute) unterschieden, wobei letztere eher in Ausnahmefällen verwendet werden. Wie der Name schon sagt gehören Instanzattribute zu den individuellen Instanzen einer Klasse. D.h. werden zwei Objekte derselben Klasse instanziert, dann wird für beide beim Erzeugen ein jeweils eigener Pool von Instanzattributen angelegt. Der Wert des Instanzattributs att in Objekt 1 ist völlig unabhängig vom Wert des Instanzattributs att in Objekt 2 derselben Klasse. Hingegen wird ein Klassenattribut pro Klasse nur einmal angelegt. D.h. alle Objekte einer Klasse können gemeinsam auf das eine Klassenattribut zugreifen. Häufig werden Klassenattribute verwendet um die aktuell instanzierten Objekte einer Klasse zu zählen.\n",
    "\n",
    ">Klassenattribute werden in Python direkt im class-Block unter Zuweisung eines Initialwerts definiert (d.h. nicht innerhalb des Konstruktors oder einer anderen Methode). Instanzattribute hingegen werden im Konstruktor definiert und mit Initialwerten versehen.\n"
   ]
  },
  {
   "cell_type": "code",
   "execution_count": 92,
   "metadata": {},
   "outputs": [
    {
     "name": "stdout",
     "output_type": "stream",
     "text": [
      "Neuer Kontostand:    2100\n",
      "FEHLER: Falsche Betragsangabe\n",
      "Es befinden sich nur noch 1899.5 Euro auf dem Konto\n"
     ]
    }
   ],
   "source": [
    "# https://www.hdm-stuttgart.de/~maucher/Python/html/Klassen.html (mit kleinen Änderungen)\n",
    "\n",
    "class Konto:\n",
    "        angelegteKonten=0 #Klassenattribut\n",
    "\n",
    "        def __init__(self,inhaber,autorisiert=[\"Bankangestellter\"],startkap=0):\n",
    "                self.__inhaber=inhaber\n",
    "                self.__autorisiert=autorisiert\n",
    "                self.__kontostand=startkap\n",
    "                Konto.angelegteKonten+=1\n",
    "\n",
    "        def __del__(self):\n",
    "                Konto.angelegteKonten-=1\n",
    "\n",
    "        def einzahlen(self,betrag):\n",
    "                if (type(betrag)==float or type(betrag)==int or type(betrag)==long) and betrag>0:\n",
    "                        self.__kontostand +=betrag\n",
    "                        print (f\"Neuer Kontostand:    {self.__kontostand}\")\n",
    "                else:\n",
    "                        print (\"FEHLER: Falsche Betragsangabe\")\n",
    "                return self.__kontostand\n",
    "\n",
    "        def auszahlen(self,betrag,initiator):\n",
    "                if not initiator in self.__autorisiert:\n",
    "                        print (f\"{initiator} ist nicht berechtigt\")\n",
    "                elif self.__kontostand < betrag:\n",
    "                        print (f\"Es befinden sich nur noch {self.__kontostand} Euro auf dem Konto\")\n",
    "                else:\n",
    "                        self.__kontostand -=betrag\n",
    "                return self.__kontostand\n",
    "\n",
    "        def abfrage(self):\n",
    "                return self.__kontostand\n",
    "            \n",
    "        def getInhaber(self):\n",
    "                return self.__inhaber\n",
    "                               \n",
    "k = Konto(inhaber=\"Stephan Salinger\", startkap=2000)\n",
    "assert k.abfrage() == 2000\n",
    "assert k.einzahlen(100) == 2100\n",
    "assert k.einzahlen(-100) == 2100\n",
    "assert k.auszahlen(200.5, \"Bankangestellter\") == 1899.5\n",
    "assert k.auszahlen(2000, \"Bankangestellter\") == 1899.5\n",
    "assert k.getInhaber() == \"Stephan Salinger\"\n",
    "#k.__inhaber #Muss schief gehen, da inhaber privat ist\n",
    "#Ausgabe wäre:\n",
    "#AttributeError                            Traceback (most recent call last)\n",
    "#Input In [508], in <cell line: 45>()\n",
    "#     43 assert k.auszahlen(2000, \"Bankangestellter\") == 1899.5\n",
    "#     44 assert k.getInhaber() == \"Stephan Salinger\"\n",
    "#---> 45 k.__inhaber\n",
    "#\n",
    "#AttributeError: 'Konto' object has no attribute '__inhaber'"
   ]
  },
  {
   "cell_type": "markdown",
   "metadata": {},
   "source": [
    "### Klassenattribute\n",
    "Natürlich kann man auch in Python Klassenattribute verwenden. Die folgenden Beispiele aus der Python-Dokumentation demonstrieren dies (siehe https://docs.python.org/3/tutorial/classes.html):"
   ]
  },
  {
   "cell_type": "code",
   "execution_count": 93,
   "metadata": {},
   "outputs": [
    {
     "data": {
      "text/plain": [
       "'canine'"
      ]
     },
     "execution_count": 93,
     "metadata": {},
     "output_type": "execute_result"
    }
   ],
   "source": [
    "class Dog:\n",
    "\n",
    "    kind = 'canine'         # class variable shared by all instances\n",
    "\n",
    "    def __init__(self, name):\n",
    "        self.name = name    # instance variable unique to each instance\n",
    "\n",
    "d = Dog('Fido')\n",
    "e = Dog('Buddy')\n",
    "d.kind                  # shared by al"
   ]
  },
  {
   "cell_type": "markdown",
   "metadata": {},
   "source": [
    "### Klassenmethoden\n",
    "In Python unterscheide zw. Klassenmethoden und statischen Methoden. Zur Definition sollten Dekoratoren verwendet werden. Das folgende Beispiel aus https://www.data-science-architect.de/methoden-in-python/ demonstriert dies:"
   ]
  },
  {
   "cell_type": "code",
   "execution_count": 94,
   "metadata": {},
   "outputs": [
    {
     "name": "stdout",
     "output_type": "stream",
     "text": [
      "Hi! My name is Peter\n",
      "Der Mensch, auch Homo sapiens, ist ein höheres Säugetier.\n",
      "Der Mensch, auch Homo sapiens, ist ein höheres Säugetier.\n",
      "<bound method Human.definition of <class '__main__.Human'>>\n",
      "<function Human.introduce at 0x7f8ce84479d0>\n",
      "<bound method Human.definition of <class '__main__.Human'>>\n",
      "<bound method Human.introduce of <__main__.Human object at 0x7f8ce8430ee0>>\n"
     ]
    }
   ],
   "source": [
    "class Human():\n",
    "    \"\"\"A class for generating human beings\"\"\"\n",
    "    \n",
    "    def __init__(self, name:str, age:int, sex:str):\n",
    "        self.name = name\n",
    "        self.age = age\n",
    "        self.sex = sex\n",
    "    \n",
    "    def introduce(self):\n",
    "        print('Hi! My name is ' + self.name)\n",
    "       \n",
    "    @classmethod\n",
    "    def definition(cls):    # Es wird statt eines Verweises auf das Objekt ein Verweis auf die Klasse (cls) übergeben\n",
    "                            # Innehalb können alle Informationen, die zur Klasse Human gehören, verwendet werden.\n",
    "        print('Der Mensch, auch Homo sapiens, ist ein höheres Säugetier.')\n",
    "        \n",
    "    @staticmethod  # Es wird weder ein Verweises auf das Objekt (self) noch ein Verweis auf die Klasse (cls) übergeben\n",
    "                   # Somit können Iinformationen, die die Klasse oder ein Objekt zur Verfügung stellen\n",
    "                   # nicht verwendet werden.\n",
    "    def add(number1:int, number2:int):\n",
    "        return number1 + number2\n",
    "    \n",
    "peter = Human(name='Peter', age=30, sex='M')\n",
    "peter.introduce()\n",
    "peter.definition() # Klassenmethoden lassen sich auf Instanzen aufrufen\n",
    "Human.definition() # Klassenmethoden lassen sich auch auf der Klasse selber aufrufen\n",
    "peter.add(1,2) # Statische Methoden lassen sich auf Instanzen aufrufen\n",
    "Human.add(1,2)  # Statische Methoden lassen sich auch auf der Klasse selber aufrufen\n",
    "\n",
    "# Folgende Aufrufe zeigen, an was die Methoden gebunden sind\n",
    "print(Human.definition)\n",
    "print(Human.introduce)\n",
    "print(peter.definition)\n",
    "print(peter.introduce)"
   ]
  },
  {
   "cell_type": "markdown",
   "metadata": {},
   "source": [
    "https://www.data-science-architect.de/methoden-in-python/:\n",
    "Sie mögen sich nun aber vielleicht (zurecht) fragen, was eigentlich der entscheidende Vorteil einer @staticmethod ist. Ganz richtig vermuten Sie bereits, dass unsere Methode add aus der Klasse Human auch als Funktion definiert sein könnte.\n",
    "\n",
    "    def add(number1:int, number2:int):\n",
    "            return number1 + number2\n",
    "        \n",
    "Die Ausführung wäre dann nicht mehr an die Klasse gekoppelt und Sie könnten schreiben:\n",
    "\n",
    "    add(1,2)\n",
    "\n",
    "Korrekt! Die Funktion wäre nicht mehr an die Klasse gekoppelt und das ist der springende Punkt. Sie (ich bin so frei und mache diese Unterstellung zu rhetorischen Zwecken) wollen aber, dass genau das passiert! In unserer Klasse Human bspw. machen wir mit der Methode add deutlich, dass ein Mensch die Addition vornimmt und nicht irgendetwas anderes. Wir sehen also, dass die @staticmethod vor allem dazu dient, unseren Code logisch zu gestalten"
   ]
  },
  {
   "cell_type": "markdown",
   "metadata": {},
   "source": [
    "Mehr zu Klassen in Python findet sich z.B. hier: https://docs.python.org/3/tutorial/classes.html\n",
    "\n",
    "Zum [Inhaltsverzeichnis](#InhaltsverzeichnisVZ)"
   ]
  },
  {
   "cell_type": "markdown",
   "metadata": {},
   "source": [
    "## Pakete <a class=\"anchor\" id=\"Pakete\"></a>\n",
    "* Python ermöglicht es, dass man mehrere Module in einem Paket kapseln kann. Ein Paket kann beliebig viele weitere Pakete enthalten.\n",
    "* Nach https://openbook.rheinwerk-verlag.de/python/20_003.html\n",
    "    * Python ermöglicht es Ihnen, mehrere Module in einem Paket zu kapseln. Das ist vorteilhaft, wenn diese Module thematisch zusammengehören. Ein Paket kann im Gegensatz zu einem einzelnen Modul beliebig viele weitere Pakete enthalten, die ihrerseits wieder Module bzw. Pakete enthalten können.\n",
    "    * Um ein Paket zu erstellen, muss ein Unterordner im Programmverzeichnis erzeugt werden. Der Name des Ordners entspricht dem Namen des Pakets.\n",
    "    * Zusätzlich kann (bei Python-Versionen vor 3.3 muss) jedes Paket eine **\\_\\_init\\_\\_.py** enthalten.\n",
    "    * Mit Python 3.3 wurden Namespace Packages eingeführt, die keine **\\_\\_init\\_\\_.py** enthalten.\n",
    "        * Das Vorhandensein bzw. Nichtvorhandensein der **\\_\\_init\\_\\_.py** entscheidet, ob ein Paket als reguläres Paket oder als Namespace Package eingebunden wird.\n",
    "        * Namespace Packages werden hier nicht weiter erörtert.\n",
    "    * **\\_\\_init\\_\\_.py** enthält Initialisierungscode, der beim Einbinden des Pakets einmalig ausgeführt wird.\n",
    "* https://www.grund-wissen.de/informatik/python/module-und-pakete.html\n",
    "    * Ein Programm kann somit in mehrere Teilpakete untergliedert werden, die wiederum mittels der *import*-Anweisung wie Module geladen werden können. Enthält beispielsweise ein Paket pac die Module a und b, so können diese mittels import pac geladen und mittels pac.a beziehungsweise pac.b benutzt werden; zur Trennung des Paket- und des Modulnamens wird also wiederum ein Punkt verwendet. Ebenso kann mittels import pac.a nur das Modul a aus dem Paket pac geladen werden.\n",
    "    \n",
    "Möchte man selbst ein Paket zu einer Python-Anwendung erstellen, so ist z.B. folgender Aufbau nutzstiftend:\n",
    "\n",
    "    My_Project/\n",
    "    |\n",
    "    |- docs\n",
    "    |   |- conf.py\n",
    "    |   |- index.rst\n",
    "    |   |- installation.rst\n",
    "    |   |- modules.rst\n",
    "    |   |- quickstart.rst\n",
    "    |   |- reference.rst\n",
    "    |\n",
    "    |- my_project/\n",
    "    |   |- main.py\n",
    "    |   |- ...\n",
    "    |\n",
    "    |- tests/\n",
    "    |   |- test_main.py\n",
    "    |   |- ...\n",
    "    |\n",
    "    |- CHANGES.rst\n",
    "    |- LICENSE\n",
    "    |- README.rst\n",
    "    |- requirements.txt\n",
    "    |- setup.py\n",
    "    |- TODO.rst\n",
    "    "
   ]
  },
  {
   "cell_type": "markdown",
   "metadata": {},
   "source": [
    "Zum [Inhaltsverzeichnis](#InhaltsverzeichnisVZ)"
   ]
  },
  {
   "cell_type": "markdown",
   "metadata": {},
   "source": [
    "## Iterables and Generators <a class=\"anchor\" id=\"Iterables_and_Generators\"></a>\n",
    "* Listen erlauben einen direkten Zugriff auf jedes einzelne Element (z.B. *x[13]*). Um dies zu ermöglichen, brauchen Listen einen relativ großen Speicherbereich.\n",
    "* Oft braucht man aber nur ein Element nach dem anderen - z.B. indem man mit Hilfe von *for* und *in* interieren. Hier kommen Generators ins Spiel.\n",
    "* Mit diesen können mit Hilfe des *yield*-Operators Werte \"on the fly\" erzeugt werden.\n",
    "    * https://www.delftstack.com/de/howto/python/yield-in-python/:\n",
    "        * Der Hauptunterschied zwischen einer Generatorfunktion und einer regulären Funktion besteht darin, dass die Generatorfunktion anstelle der Anweisung *return* einen Ausdruck *yield* enthält. Die Anweisung yield erzeugt die Werteserie, die als Generatoriterator als Ausgabe bezeichnet wird. Neue Werte aus dem Iterator können mit der Funktion *next()* oder der Schleife *for* abgerufen werden.\n",
    "        * Jedes Mal, wenn die Funktion next() aufgerufen wird oder bei jeder Iteration der Schleife *for*, gibt die Anweisung yield einen neuen Wert aus oder erzeugt einen neuen Wert und speichert den Standortausführungsstatus der Funktion, dh die Werte der lokalen Variablen. usw. Bei jedem neuen Funktionsaufruf oder jeder neuen Iteration next() wird die Anweisung yield im Gegensatz zur Anweisung return, die bei jedem Aufruf beginnt, aus dem zuletzt gespeicherten Zustand fortgesetzt."
   ]
  },
  {
   "cell_type": "code",
   "execution_count": 95,
   "metadata": {},
   "outputs": [
    {
     "name": "stdout",
     "output_type": "stream",
     "text": [
      "i: 0 i: 1 i: 2 i: 3 i: 4 i: 5 i: 6 i: 7 i: 8 i: 9 "
     ]
    }
   ],
   "source": [
    "def generator_range(n):\n",
    "    i = 0\n",
    "    while i < n:\n",
    "        yield i #every call to yield produces a value of the generator\n",
    "        i += 1\n",
    "        \n",
    "for i in generator_range(10):\n",
    "    print(f\"i: {i}\", end=' ')"
   ]
  },
  {
   "cell_type": "markdown",
   "metadata": {},
   "source": [
    "Für eine solche einfache Zahlenfolge würde man allerdings keinen Generator schreiben und stattdesses *range*, also hier *range(0, 10)*, verwenden (siehe weiter oben). Denn auch *range* ist *lazy*. Dehalb hier noch ein weiteres Beispiel. Hierbe wird *next()* verwendet, um das nächste Element zu generieren:"
   ]
  },
  {
   "cell_type": "code",
   "execution_count": 96,
   "metadata": {},
   "outputs": [
    {
     "name": "stdout",
     "output_type": "stream",
     "text": [
      "H\n",
      "T\n",
      "W\n"
     ]
    }
   ],
   "source": [
    "def HTW_generator():\n",
    "    yield \"H\"\n",
    "    yield \"T\"\n",
    "    yield \"W\"\n",
    "    \n",
    "x = HTW_generator()    \n",
    "print(next(x))\n",
    "print(next(x))\n",
    "print(next(x))"
   ]
  },
  {
   "cell_type": "markdown",
   "metadata": {},
   "source": [
    "Achtung: Die Kehrseite der durch Generatoren gewonnenen \"Lazyness\" ist, dass über einen Generator nur einmal iteriert werden kann. Wird er erneut gebraucht, muss er neu geschaffen werden. Falls das Generieren der Werte teuer ist, kann also eine Liste eher angbracht sein:"
   ]
  },
  {
   "cell_type": "code",
   "execution_count": 97,
   "metadata": {},
   "outputs": [
    {
     "name": "stdout",
     "output_type": "stream",
     "text": [
      "H\n"
     ]
    }
   ],
   "source": [
    "#print(next(x))\n",
    "#Dieser vierte Zugriff würde zu folgender Ausgabe führen:\n",
    "#---------------------------------------------------------------------------\n",
    "#StopIteration                             Traceback (most recent call last)\n",
    "#Input In [172], in <cell line: 1>()\n",
    "#----> 1 print(next(x))\n",
    "#\n",
    "#StopIteration:\n",
    "\n",
    "#Der Gnerator muss neu erzeugt werden:\n",
    "x = HTW_generator()\n",
    "print(next(x))"
   ]
  },
  {
   "cell_type": "markdown",
   "metadata": {},
   "source": [
    "###  Generator comprehension\n",
    "* https://www.pythonforbeginners.com/basics/generator-comprehension-in-python:\n",
    "    * Instead of implementing the generator function to create a generator, we can create a generator from any sequence in a single statement  using generator comprehension.\n",
    "    * The syntax for set comprehension is: ***generator = (expression for element in iterable if condition)***\n",
    "        * The *iterable* can be any iterable object such as list, set, tuple, or dictionary from which we have to create a new generator to access its elements.\n",
    "        * The *element* is the element of the iterable object for which we are creating the generator. \n",
    "        * The *expression* contains a value or any mathematical expression derived from the element.\n",
    "        * The *condition* is the conditional expression required to exclude or include an element in the generator. The conditional statement is optional and “if condition” can be omitted if you have to access all the elements of the iterable.\n",
    "        * *generator* is the name of a newly created generator using generator comprehension in Python. "
   ]
  },
  {
   "cell_type": "code",
   "execution_count": 98,
   "metadata": {},
   "outputs": [
    {
     "name": "stdout",
     "output_type": "stream",
     "text": [
      "Elements obtained from the generator are:\n",
      "2\n",
      "4\n",
      "6\n",
      "8\n",
      "10\n"
     ]
    }
   ],
   "source": [
    "myList = [1, 2, 3, 4, 5, 6, 7, 8, 9, 10]\n",
    "even = (element for element in myList if element % 2 == 0) #generator\n",
    "print(\"Elements obtained from the generator are:\")\n",
    "for e in even:\n",
    "    print(e)"
   ]
  },
  {
   "cell_type": "markdown",
   "metadata": {},
   "source": [
    "Mittels solcher Generatoren können leicht Pipelines zur Bearbeitung von Daten aufgebaut werden:"
   ]
  },
  {
   "cell_type": "code",
   "execution_count": 99,
   "metadata": {},
   "outputs": [
    {
     "name": "stdout",
     "output_type": "stream",
     "text": [
      "4\n",
      "16\n",
      "36\n",
      "64\n",
      "100\n"
     ]
    }
   ],
   "source": [
    "even = (element for element in myList if element % 2 == 0) #Generator muss neu geschaffen werden, da oben schon verwendert wurde\n",
    "esquare = (element**2 for element in even)\n",
    "\n",
    "for eq in esquare:\n",
    "    print(eq)"
   ]
  },
  {
   "cell_type": "markdown",
   "metadata": {},
   "source": [
    "Zum [Inhaltsverzeichnis](#InhaltsverzeichnisVZ)"
   ]
  },
  {
   "cell_type": "markdown",
   "metadata": {},
   "source": [
    "## Randomness <a class=\"anchor\" id=\"Randomness\"></a>"
   ]
  },
  {
   "cell_type": "code",
   "execution_count": 100,
   "metadata": {},
   "outputs": [
    {
     "data": {
      "text/plain": [
       "[0.5714025946899135,\n",
       " 0.4288890546751146,\n",
       " 0.5780913011344704,\n",
       " 0.20609823213950174]"
      ]
     },
     "execution_count": 100,
     "metadata": {},
     "output_type": "execute_result"
    }
   ],
   "source": [
    "import random\n",
    "random.seed(10) #Sicherstellen, dass wir immer die selben Ergebnisse bekommen\n",
    "\n",
    "#random.random() erzeugt gleichverteilte Zahlen zw. 0 und 1\n",
    "four_uniform_randoms = [random.random() for _ in range(4)]\n",
    "\n",
    "four_uniform_randoms"
   ]
  },
  {
   "cell_type": "markdown",
   "metadata": {},
   "source": [
    "Zum [Inhaltsverzeichnis](#InhaltsverzeichnisVZ)"
   ]
  },
  {
   "cell_type": "markdown",
   "metadata": {},
   "source": [
    "## zip und *Argument Unpacking* (*)<a class=\"anchor\" id=\"zip_und_Argument_Unpacking\"></a>\n",
    "* https://www.w3schools.com/python/ref_func_zip.asp:\n",
    "    * The zip() function returns a zip object, which is an iterator of tuples where the first item in each passed iterator is paired together, and then the second item in each passed iterator are paired together etc.\n",
    "    * If the passed iterators have different lengths, the iterator with the least items decides the length of the new iterator."
   ]
  },
  {
   "cell_type": "code",
   "execution_count": 101,
   "metadata": {},
   "outputs": [
    {
     "name": "stdout",
     "output_type": "stream",
     "text": [
      "[('John', 'Jenny'), ('Charles', 'Christy'), ('Mike', 'Monica')]\n"
     ]
    }
   ],
   "source": [
    "a = (\"John\", \"Charles\", \"Mike\")\n",
    "b = (\"Jenny\", \"Christy\", \"Monica\", \"Vicky\")\n",
    "\n",
    "x = zip(a, b)\n",
    "#print(x)   #Achtung: zip ist lazy. Hier hat man erst einmal \"nur\" einen Iterator.\n",
    "            #Deshalb wäre die Ausgabe von dem print hier sowas wie <zip object at 0x7fafaaaea3c0>\n",
    "    \n",
    "#Zum \"Zippen\" muss man den Iterator verwenden, z.B. wie folgt:\n",
    "\n",
    "pairs = [pair for pair in x]    #Besser gleich schreiben [pair for pair in zip(a,b)]\n",
    "print(pairs)"
   ]
  },
  {
   "cell_type": "markdown",
   "metadata": {},
   "source": [
    "* Natürlich kann man auch unzippen - mit einem Trick:"
   ]
  },
  {
   "cell_type": "code",
   "execution_count": 102,
   "metadata": {},
   "outputs": [
    {
     "name": "stdout",
     "output_type": "stream",
     "text": [
      "('John', 'Charles', 'Mike')\n",
      "('Jenny', 'Christy', 'Monica')\n"
     ]
    }
   ],
   "source": [
    "a2, b2 = zip(*pairs)\n",
    "print(a2)\n",
    "print(b2)"
   ]
  },
  {
   "cell_type": "markdown",
   "metadata": {},
   "source": [
    "* Der Stern (\\*) führt zu einem sogenannten *argument unpacking*: Er packt die Liste so aus, dass alle seine Elemente als einzelne Parameter übergeben werden können.\n",
    "* Unser zip(\\*pairs) ist also das Folgende:"
   ]
  },
  {
   "cell_type": "code",
   "execution_count": 103,
   "metadata": {},
   "outputs": [
    {
     "name": "stdout",
     "output_type": "stream",
     "text": [
      "('John', 'Charles', 'Mike')\n",
      "('Jenny', 'Christy', 'Monica')\n"
     ]
    }
   ],
   "source": [
    "männer, frauen = zip(('John', 'Jenny'), ('Charles', 'Christy'), ('Mike', 'Monica')) #Ja,\n",
    "                                                                                    #zip kann beliebig viele\n",
    "                                                                                    #Argumente haben.\n",
    "print(männer)\n",
    "print(frauen)"
   ]
  },
  {
   "cell_type": "markdown",
   "metadata": {},
   "source": [
    "Zum [Inhaltsverzeichnis](#InhaltsverzeichnisVZ)"
   ]
  },
  {
   "cell_type": "markdown",
   "metadata": {},
   "source": [
    "## args und kwargs <a class=\"anchor\" id=\"args_und_kwargs\"></a>\n",
    "* https://realpython.com/python-kwargs-and-args/:\n",
    "    * **\\*args** and **\\*\\*kwargs** allow you to pass multiple arguments or keyword arguments to a function."
   ]
  },
  {
   "cell_type": "code",
   "execution_count": 104,
   "metadata": {},
   "outputs": [
    {
     "name": "stdout",
     "output_type": "stream",
     "text": [
      "3\n"
     ]
    }
   ],
   "source": [
    "#Definition einer Funktion zu Addition von zwei Zahlen. Doch was mache ich, wenn ich eine Funktion brauche,\n",
    "#die beliebig viele Zahlen addiert?\n",
    "def my_sum(a, b):\n",
    "    return a + b\n",
    "\n",
    "print(my_sum(1,2))"
   ]
  },
  {
   "cell_type": "markdown",
   "metadata": {},
   "source": [
    "Natürlich könnte man z.B. mit *Sets* arbeiten:"
   ]
  },
  {
   "cell_type": "code",
   "execution_count": 105,
   "metadata": {},
   "outputs": [
    {
     "name": "stdout",
     "output_type": "stream",
     "text": [
      "6\n"
     ]
    }
   ],
   "source": [
    "def my_sum(my_integers):\n",
    "    result = 0\n",
    "    for x in my_integers:\n",
    "        result += x\n",
    "    return result\n",
    "\n",
    "list_of_integers = [1, 2, 3]\n",
    "print(my_sum(list_of_integers))"
   ]
  },
  {
   "cell_type": "markdown",
   "metadata": {},
   "source": [
    "Aber will man immer erst eine Liste erzeugen? Wohl eher nicht. Deshalb kann man mittels **\\*args** eine variabel Anzahl von Parametern definieren:"
   ]
  },
  {
   "cell_type": "code",
   "execution_count": 106,
   "metadata": {},
   "outputs": [
    {
     "name": "stdout",
     "output_type": "stream",
     "text": [
      "6\n"
     ]
    }
   ],
   "source": [
    "def my_sum(*args):\n",
    "    result = 0\n",
    "    # Iterating over the Python args tuple\n",
    "    for x in args:\n",
    "        result += x\n",
    "    return result\n",
    "\n",
    "print(my_sum(1, 2, 3))"
   ]
  },
  {
   "cell_type": "markdown",
   "metadata": {},
   "source": [
    "**Achtung**: *args* ist hier nur ein beliebiger Name. Es kann auch ein ganz anderer gewählt werden. Denn das einige was hier zählt ist die Verwendung des Unpacking-Operators \\* (siehe auch [zip und Argument Unpacking](#zip_und_Argument_Unpacking)).:"
   ]
  },
  {
   "cell_type": "code",
   "execution_count": 107,
   "metadata": {},
   "outputs": [
    {
     "name": "stdout",
     "output_type": "stream",
     "text": [
      "6\n"
     ]
    }
   ],
   "source": [
    "def my_sum(*hugendubel):\n",
    "    result = 0\n",
    "    # Iterating over the Python args tuple\n",
    "    for x in hugendubel:\n",
    "        result += x\n",
    "    return result\n",
    "\n",
    "print(my_sum(1, 2, 3))"
   ]
  },
  {
   "cell_type": "markdown",
   "metadata": {},
   "source": [
    "* https://realpython.com/python-kwargs-and-args/:\n",
    "    * Bear in mind that the iterable object you’ll get using the unpacking operator * is not a list but a tuple. A tuple is similar to a list in that they both support slicing and iteration. However, tuples are very different in at least one aspect: lists are mutable, while tuples are not."
   ]
  },
  {
   "cell_type": "code",
   "execution_count": 108,
   "metadata": {},
   "outputs": [
    {
     "name": "stdout",
     "output_type": "stream",
     "text": [
      "<class 'tuple'>\n"
     ]
    }
   ],
   "source": [
    "def test_unpacking_type(*hugendubel):\n",
    "    print(type(hugendubel))\n",
    "\n",
    "\n",
    "test_unpacking_type(1,2,3)"
   ]
  },
  {
   "cell_type": "markdown",
   "metadata": {},
   "source": [
    "Deshalb führt folgende Funktion auch zu einem Fehler:"
   ]
  },
  {
   "cell_type": "code",
   "execution_count": 109,
   "metadata": {},
   "outputs": [],
   "source": [
    "def geht_nicht(*hugendubel):\n",
    "    hugendubel[0] = 4\n",
    "\n",
    "\n",
    "#geht_nicht(1,2,3)\n",
    "\n",
    "# Fehlermeldung\n",
    "#TypeError                                 Traceback (most recent call last)\n",
    "#Input In [625], in <cell line: 5>()\n",
    "#      1 def geht_nicht(*hugendubel):\n",
    "#      2     hugendubel[0] = 4\n",
    "#----> 5 geht_nicht(1,2,3)\n",
    "#\n",
    "#Input In [625], in geht_nicht(*hugendubel)\n",
    "#      1 def geht_nicht(*hugendubel):\n",
    "#----> 2     hugendubel[0] = 4\n",
    "#\n",
    "#TypeError: 'tuple' object does not support item assignment"
   ]
  },
  {
   "cell_type": "markdown",
   "metadata": {},
   "source": [
    "* https://realpython.com/python-kwargs-and-args/:\n",
    "    * \\*\\*kwargs works just like *args, but instead of accepting positional arguments it accepts keyword (or named) arguments.\n",
    "* Aus den Argumenten resultiert in der Funktion der Typ Dictonary mit all seinen Möglichkeiten (siehe [Dictionaries](#DictionariesChap))."
   ]
  },
  {
   "cell_type": "code",
   "execution_count": 110,
   "metadata": {},
   "outputs": [
    {
     "name": "stdout",
     "output_type": "stream",
     "text": [
      "<class 'dict'>\n",
      "Real\n",
      "RealPythonIsGreat!\n"
     ]
    }
   ],
   "source": [
    "def concatenate(**kwargs):\n",
    "    print(type(kwargs))\n",
    "    print(kwargs[\"a\"]) #Ausgabe eines Wertes zum Schlüssel a - führt zu KeyError wenn der Schlüssel nicht existiert\n",
    "    result = \"\"\n",
    "    # Iterating over the Python kwargs dictionary\n",
    "    for arg in kwargs.values():\n",
    "        result += arg \n",
    "    return result\n",
    "\n",
    "print(concatenate(a=\"Real\", b=\"Python\", c=\"Is\", d=\"Great\", e=\"!\"))"
   ]
  },
  {
   "cell_type": "markdown",
   "metadata": {},
   "source": [
    "**Achtung**: Auch hier ist *kargs* nur ein beliebiger Name. Es kann auch ein ganz anderer gewählt werden. Denn das einige was hier zählt ist die Verwendung des Unpacking-Operators \\*\\*.\n",
    "\n",
    "Zum [Inhaltsverzeichnis](#InhaltsverzeichnisVZ)"
   ]
  },
  {
   "cell_type": "markdown",
   "metadata": {},
   "source": [
    "## Type Annotations  <a class=\"anchor\" id=\"Type_Annotations\"></a>\n",
    "* Wie wir schon gesehen haben: Python ist eine dynamisch getypte Sprache. Dies bedeutet, dass sich Python nicht um den Typ der Objekte kümmert - zumindest solange wir diese richtig verwenden.\n",
    "* Beispiele:"
   ]
  },
  {
   "cell_type": "code",
   "execution_count": 111,
   "metadata": {},
   "outputs": [
    {
     "name": "stdout",
     "output_type": "stream",
     "text": [
      "3\n",
      "[1, 2, 3, 4, 5, 6]\n",
      "hello world\n",
      "unsupported operand type(s) for +: 'int' and 'str'\n"
     ]
    }
   ],
   "source": [
    "def my_add(a,b):\n",
    "    return a+b\n",
    "\n",
    "print(my_add(1,2))\n",
    "print(my_add([1,2,3],[4,5,6]))\n",
    "print(my_add(\"hello \", \"world\"))\n",
    "\n",
    "try:\n",
    "    my_add(1, \"hello\")\n",
    "except TypeError:\n",
    "    print(\"unsupported operand type(s) for +: 'int' and 'str'\")"
   ]
  },
  {
   "cell_type": "markdown",
   "metadata": {},
   "source": [
    "* In neuere Versionen von Python kann man allerdings Typen angeben, z.B. für Parameter von Funktionen oder deren Rückgabewerte sowie für Variablen.\n",
    "* Notation: \n",
    "    * *Parameter: Type*, also z.B. *a: int*\n",
    "    * *def function(...) -> Type*, also z.B. *def my_function() -> int*\n",
    "* Allerdings: Diese Angaben verändern nichts an der Funktionsweise von Python. Das obige Beispiel *my_add(\"hello\", 1)* würde auch zu einem TypeError führen, wenn wir *int* als Type angeben würden:"
   ]
  },
  {
   "cell_type": "code",
   "execution_count": 112,
   "metadata": {},
   "outputs": [
    {
     "name": "stdout",
     "output_type": "stream",
     "text": [
      "unsupported operand type(s) for +: 'int' and 'str'\n"
     ]
    }
   ],
   "source": [
    "def my_add2(a: int,b: int) -> int:\n",
    "    return a+b\n",
    "\n",
    "try:\n",
    "    my_add2(1, \"hello\")\n",
    "except TypeError:\n",
    "    print(\"unsupported operand type(s) for +: 'int' and 'str'\")"
   ]
  },
  {
   "cell_type": "markdown",
   "metadata": {},
   "source": [
    "Warum und wann sollte man dann überhaupt Typen angeben? Es gibt vier Hauptgründe:\n",
    "1. Sie helfen bei der Dokumentation, den sie machen den Kode besser verständlich.\n",
    "    * Stellen Sie sich vor, sie stoßen auf eine Funktionsdefinition **def dot_product(x,y): ...**. Sie könnten sich fragen, was wohl x und y sind. Steht da stattdessen **def dot_product(x: Vector,y: Vector): ...**, ist die Sache wohl viel eindeutiger (wobei es den Typ *Vector* so in Phython nicht gibt, wir müssten diesen erst definieren).\n",
    "2. Es gibt Werkzeuge (z.B. *mypy*) die Kode untersuchen und anhand von solchen Annotationen Typfehler feststellen können, bevor der Kode zum Laufen gebracht wird.\n",
    "3. Das Nachdenken über Typen hilft dabei, besseren Kode zu schreiben.\n",
    "4. Editoren können anhand solcher Annotationen bei der \"Autocompletion\" unterstützt werden und vor Typfehlern warnen.\n",
    "\n",
    "Siehe auch https://docs.python.org/3/library/typing.html"
   ]
  },
  {
   "cell_type": "markdown",
   "metadata": {},
   "source": [
    "### Das Modul *typing*\n",
    "* https://docs.python.org/3/library/typing.html:\n",
    "    * This module provides runtime support for type hints. The most fundamental support consists of the types Any, Union, Callable, TypeVar, and Generic.\n",
    "* Beispiel:"
   ]
  },
  {
   "cell_type": "code",
   "execution_count": 113,
   "metadata": {},
   "outputs": [
    {
     "name": "stdout",
     "output_type": "stream",
     "text": [
      "6.6\n"
     ]
    }
   ],
   "source": [
    "from typing import List #Achtung: Großgeschrieben\n",
    "\n",
    "def total(xs: List[float]) -> float:\n",
    "    return sum(xs)\n",
    "    \n",
    "my_list= [1.1,2.2,3.3]\n",
    "print(total(my_list))"
   ]
  },
  {
   "cell_type": "markdown",
   "metadata": {},
   "source": [
    "Das Modul *typing* enthällt viele Typen wie z.B. *Dict*, *Iterable*, *Tupel*. Natürlich auch einen Typen für Funktionen. Er heißt *Callable*:"
   ]
  },
  {
   "cell_type": "code",
   "execution_count": 114,
   "metadata": {},
   "outputs": [
    {
     "name": "stdout",
     "output_type": "stream",
     "text": [
      "i love typing, i love typing\n"
     ]
    }
   ],
   "source": [
    "from typing import Callable\n",
    "\n",
    "#twice bekommt eine Funktion repeater übergeben, die als Argument einen String und ein Integer erwartet\n",
    "#und einen String zurückgibt\n",
    "def twice(repeater: Callable[[str, int], str], s: str) -> str:\n",
    "    return repeater(s,2)\n",
    "    \n",
    "def comma_repeater(s: str, n: int) -> str:\n",
    "    n_copies = [s for _ in range(n)]\n",
    "    #print(range(n))\n",
    "    #print(n_copies) \n",
    "    return ', '.join(n_copies)  #The join() method takes all items in an iterable and joins them into one string.\n",
    "                                #A string must be specified as the separator.\n",
    "\n",
    " \n",
    "\n",
    "print(twice(comma_repeater,\"i love typing\"))\n",
    "    "
   ]
  },
  {
   "cell_type": "markdown",
   "metadata": {},
   "source": [
    "Zum [Inhaltsverzeichnis](#InhaltsverzeichnisVZ)"
   ]
  },
  {
   "cell_type": "markdown",
   "metadata": {},
   "source": [
    "## Decorators <a class=\"anchor\" id=\"Decorators\"></a>\n",
    "* https://www.geeksforgeeks.org/decorators-in-python/:\n",
    "    * Decorators are used to modify the behaviour of function or class. In Decorators, functions are taken as the argument into another function and then called inside the wrapper function.\n",
    "* Das funktioniert in Python, da in Python - wie wir schon gesehen haben - Funktion *first-class* sind."
   ]
  },
  {
   "cell_type": "code",
   "execution_count": 115,
   "metadata": {},
   "outputs": [
    {
     "data": {
      "text/plain": [
       "'HELLO THERE'"
      ]
     },
     "execution_count": 115,
     "metadata": {},
     "output_type": "execute_result"
    }
   ],
   "source": [
    "#Definition eines neuen Decorators - hier einer Funktion, die nach dem Aufruf\n",
    "#einer ihr übergebenen Funktion noch etwas zusätzliches macht.\n",
    "#Nach https://www.datacamp.com/tutorial/decorators-python\n",
    "\n",
    "def uppercase_decorator(function: Callable[[str], str]) -> Callable[[str], str]:\n",
    "    def wrapper() -> str:\n",
    "        string = function()\n",
    "        make_uppercase = string.upper()\n",
    "        return make_uppercase\n",
    "\n",
    "    return wrapper\n",
    "\n",
    "def say_hi():\n",
    "    return 'hello there'\n",
    "\n",
    "decorate = uppercase_decorator(say_hi)\n",
    "decorate()"
   ]
  },
  {
   "cell_type": "markdown",
   "metadata": {},
   "source": [
    "Die Verwendung eines Decoraters kann in Python mittels einer @-Notation einfacher gestaltet werden:"
   ]
  },
  {
   "cell_type": "code",
   "execution_count": 116,
   "metadata": {},
   "outputs": [
    {
     "data": {
      "text/plain": [
       "'BY'"
      ]
     },
     "execution_count": 116,
     "metadata": {},
     "output_type": "execute_result"
    }
   ],
   "source": [
    "@uppercase_decorator\n",
    "def say_good_by():\n",
    "    return 'by'\n",
    "\n",
    "say_good_by()"
   ]
  },
  {
   "cell_type": "markdown",
   "metadata": {},
   "source": [
    "Natürlich können auch mehrere Decorator zusammen verwendet werden:"
   ]
  },
  {
   "cell_type": "code",
   "execution_count": 117,
   "metadata": {},
   "outputs": [
    {
     "data": {
      "text/plain": [
       "['GOOD', 'BY']"
      ]
     },
     "execution_count": 117,
     "metadata": {},
     "output_type": "execute_result"
    }
   ],
   "source": [
    "#Noch ein Decorator\n",
    "#Nach https://www.datacamp.com/tutorial/decorators-python\n",
    "\n",
    "\n",
    "def split_string(function):\n",
    "    def wrapper():\n",
    "        string = function()\n",
    "        splitted_string = string.split()\n",
    "        return splitted_string\n",
    "\n",
    "    return wrapper\n",
    "\n",
    "@split_string         #Liegt um dem uppercase_decorator\n",
    "@uppercase_decorator  #Liegt innen um die zu dekorierende Funktion say_good_by2\n",
    "def say_good_by2():\n",
    "    return 'Good by'\n",
    "\n",
    "say_good_by2()"
   ]
  },
  {
   "cell_type": "markdown",
   "metadata": {},
   "source": [
    "Dabei ist es selbstverständlich von zentraler Bedeutung in welcher Reihenfolge die @-Annotationen an einer Funktion gemacht werden.\n",
    "\n",
    "Das ganze funktioniert auch, wenn die Funktion, die dekoriert werden soll, Argumente besitzt:"
   ]
  },
  {
   "cell_type": "code",
   "execution_count": 118,
   "metadata": {},
   "outputs": [
    {
     "name": "stdout",
     "output_type": "stream",
     "text": [
      "My arguments are: Nairobi, Accra\n",
      "Cities I love are Nairobi and Accra\n"
     ]
    }
   ],
   "source": [
    "#Nach https://www.datacamp.com/tutorial/decorators-python\n",
    "\n",
    "def decorator_with_arguments(function):\n",
    "    def wrapper_accepting_arguments(arg1, arg2):\n",
    "        print(\"My arguments are: {0}, {1}\".format(arg1,arg2)) #The format() method formats the specified value(s)\n",
    "                                                              #and insert them inside the string's placeholder.\n",
    "        function(arg1, arg2)\n",
    "    return wrapper_accepting_arguments\n",
    "\n",
    "\n",
    "@decorator_with_arguments\n",
    "def cities(city_one, city_two):\n",
    "    print(\"Cities I love are {0} and {1}\".format(city_one, city_two))\n",
    "\n",
    "cities(\"Nairobi\", \"Accra\")"
   ]
  },
  {
   "cell_type": "markdown",
   "metadata": {},
   "source": [
    "* Für weitere Infos siehe z.B.: https://realpython.com/primer-on-python-decorators/\n",
    "    * Z.B. verwendet man beim Einsatz des Webframeworks Flask Decorator wie z.B. *@app.route*."
   ]
  },
  {
   "cell_type": "markdown",
   "metadata": {},
   "source": [
    "Zum [Inhaltsverzeichnis](#InhaltsverzeichnisVZ)"
   ]
  },
  {
   "cell_type": "markdown",
   "metadata": {},
   "source": [
    "## Monkey Patching <a class=\"anchor\" id=\"Monkey_Patching\"></a>\n",
    "* https://en.wikipedia.org/wiki/Monkey_patch: Monkey patching is a technique used to dynamically update the behavior of a piece of code at run-time. A monkey patch (also spelled monkey-patch, MonkeyPatch) is a way to extend or modify the runtime code of dynamic languages (e.g. Smalltalk, JavaScript, Objective-C, Ruby, Perl, Python, Groovy, etc.) without altering the original source code.\n",
    "* Beispiel für Monkey Patching in Python (nach https://www.geeksforgeeks.org/monkey-patching-in-python-dynamic-behavior/amp/):\n",
    "    * In Python, the term monkey patch refers to dynamic (or run-time) modifications of a class or module. In Python, we can actually change the behavior of code at run-time."
   ]
  },
  {
   "cell_type": "code",
   "execution_count": 119,
   "metadata": {},
   "outputs": [
    {
     "name": "stdout",
     "output_type": "stream",
     "text": [
      "monkey_f() is being called\n"
     ]
    }
   ],
   "source": [
    "class A: \n",
    "\n",
    "     def func(self): \n",
    "          print (\"func() is being called\")\n",
    "\n",
    "        \n",
    "def monkey_f(self): \n",
    "     print (\"monkey_f() is being called\") \n",
    "\n",
    "# replacing address of \"func\" with \"monkey_f\" \n",
    "A.func = monkey_f \n",
    "\n",
    "obj = A() \n",
    "\n",
    "# calling function \"func\" whose address got replaced \n",
    "# with function \"monkey_f()\" \n",
    "obj.func()  "
   ]
  },
  {
   "cell_type": "markdown",
   "metadata": {},
   "source": [
    "* Für eine Betrachtung der Folgen des Monkey Patchings siehe z.B. https://www.pythonforthelab.com/blog/monkey-patching-and-its-consequences/"
   ]
  },
  {
   "cell_type": "markdown",
   "metadata": {},
   "source": [
    "Zum [Inhaltsverzeichnis](#InhaltsverzeichnisVZ)"
   ]
  },
  {
   "cell_type": "markdown",
   "metadata": {},
   "source": [
    "## Sonstiges <a class=\"anchor\" id=\"Sonstiges\"></a>\n",
    "\n",
    "Im Rahmen dieses Crash-Kurses kann natürlich nur ein erster Einblick in Phython gegeben werden. Nachfolgend deshalb noch ein paar Vereiweise auf weitere Themen:\n",
    "* **Standard Library**\n",
    "    * python.org: Brief Tour of the Standard Library: https://docs.python.org/3/tutorial/stdlib.html (inkl. Command Line Arguments, Error Output Redirection, Internet Access, Quality Control und vieles mehr)\n",
    "* **Context Managers and Python's with Statement**\n",
    "    * Siehe z.B. hier: https://realpython.com/python-with-statement/\n",
    "        * *The with statement in Python is a quite useful tool for properly managing external resources in your programs. It allows you to take advantage of existing context managers to automatically handle the setup and teardown phases whenever you’re dealing with external resources or with operations that require those phases.*\n",
    "* **What Does *if \\_\\_name\\_\\_ == \"\\_\\_main\\_\\_\"* Do in Python?**\n",
    "    * Z.B.:\n",
    "\n",
    "          if __name__ == \"__main__\":\n",
    "              main()\n",
    "         \n",
    "    * Für Erläuterungen siehe z.B.: https://realpython.com/if-name-main-python/\n",
    "        * *In Short: It Allows You to Execute Code When the File Runs as a Script, but Not When It’s Imported as a Module*\n",
    "* **GUI-Programmierung**\n",
    "    * python.org: GUI Programming in Python: https://wiki.python.org/moin/GuiProgrammingc\n",
    "* **Webframeworks, z.B. Flask**\n",
    "    * https://flask.palletsprojects.com/en/2.2.x/quickstart/\n",
    "    * Flaskentwicklung mittels PyCharm: https://www.jetbrains.com/help/pycharm/flask.html\n",
    "    \n",
    "Zum [Inhaltsverzeichnis](#InhaltsverzeichnisVZ)"
   ]
  },
  {
   "cell_type": "markdown",
   "metadata": {},
   "source": [
    "## Übungsaufgaben <a class=\"anchor\" id=\"Ubungsaufgaben\"></a>\n",
    "* Die Übungsaufgaben adressieren unterschiedliche (aber nicht alle) Themen aus dem Kurs.\n",
    "* Sie sollten bearbeitet werden um\n",
    "    * entweder das im Kurs Gelernte zu überprüfen oder,\n",
    "    * falls man sich von vorn herein sicher in Python füllt und den Kurs nicht durcharbeiten möchte, festzustellen, ob die eigenen Kenntnisse wirklich ausreichen.\n",
    "\n",
    "**Achtung**: Bei jeder Aufgabe ist angegeben, wie weit im oben stehenden Kurs sie gekommen sein sollten, um die Aufgabe bearbeiten zu können."
   ]
  },
  {
   "cell_type": "markdown",
   "metadata": {},
   "source": [
    "**Übungsaufgabe 1 (List)**: Schreiben Sie eine Funktion *transform_to_binary*, die eine Liste als Eingabe erwartet, bei der die Elemente entweder Integer oder selber wieder Listen sind. Sind es Listen, so können diese wieder Integer oder Listen enthalten usw.\n",
    "Die Funktion *transform_to_binary* soll eine Liste zurückgeben, bei der \n",
    "* alle Integer der Eingabeliste, die kleiner oder gleich 0 (Null) waren zu 0 geworden sind\n",
    "* alle Integer der Eingabeliste, die größer 0 waren zu 1 geworden sind.\n",
    "\n",
    "Enthält die Eingabeliste Elemente die nicht der Vorgabe entprechen, soll die Funktion mit einem TypeError abgebrochen werden.\n",
    "\n",
    "Verwenden Sie bei Ihrer Lösung *Type Annotations*.\n",
    "\n",
    "Testen Sie Ihre Funktion mittels folgender Listen:\n",
    "\n",
    "    list0 = []\n",
    "\n",
    "    list1 = [1,-1,0]\n",
    "\n",
    "    list2 = [1, [0, 4]]\n",
    "\n",
    "    list3 = [1, [[2,0,1], 4], 1000]\n",
    "\n",
    "    list4 = [1, [[2,0,1], 4], \"1000\"]"
   ]
  },
  {
   "cell_type": "markdown",
   "metadata": {},
   "source": [
    "**Übungsaufgabe 2 (Dictionary)**: Es soll eine Funktion *key_value_change* implementiert werden, die ein *Dictionary* als Argument erhält und für jeden Eintrag den *Value* zum *Key* und den *Key* zum *Value* macht. Falls dabei mehrfach der selbe *Key* entsteht, sollte sich die Implementierung genauso verhalten, wie für den Fall, dass beim Anlegen eines Dictonaries mehrfach der selbe *Key* verwendet wird. **Randbedingung die einzuhalten ist**: Die Implementierung darf keine *if*-Anweisung und keine *while*-Schleife enthalten.\n",
    "Die Implementierung soll unter Verwendung der 4 nachstehend vorgegebenen Dictonaries und der assert-Methode getestet werden.\n",
    "\n",
    "    dict0 = {}\n",
    "\n",
    "    dict1 = {2:3, 5:6, 8:9}\n",
    "\n",
    "    dict2 = {2:3, 5:3, 8:3}\n",
    "\n",
    "    dict3 = {\"a\": \"aa\", \"b\": \"bb\", \"c\": \"aa\"}"
   ]
  },
  {
   "cell_type": "markdown",
   "metadata": {},
   "source": [
    "**Übungsaufgabe 3 (*args* und *kwargs*)**: Unter Zuhilfenahme von *args* und/oder *kwargs* soll eine Funktion *doppler* implementiert werden, die als Argument eine Funktion *f*, die eine beliebigen Anzahl von Parametern (unbenannte oder benannte) besitzt, übergeben bekommt und die **eine Funktion mit beliebig vielen Argumenten zurückgibt**, die den Rückgabewert der Funktion *f* auf diese Argumente verdoppelt. Achtung: Wie wir schon mitbekommen haben, handelt es sich bei Python um eine dynamisch getypte Sprache. Somit kann nicht ohnen weiteres sichergestellt werden, das *f* tatsächlich etwas zurückgibt, was *doppler* zu einer Funktion ausbauen kann, die das Ergebnis von *f* verdoppelt. Das soll uns aber erst einmal nicht stören. Als Test für Ihre Funktion können Sie folgenden Code verwenden:\n",
    "\n",
    "    def test_f(x,y,z):\n",
    "        return(x+y+z)\n",
    "\n",
    "    g = doppler(test_f) #Hier wird mit Hilfe von doppler aus der Funktion f die Funktion g\n",
    "\n",
    "    assert g(1,2,3) == 12, \"((1+2+3)*2 should equal 12\"\n",
    "\n",
    "    assert g(-1,0,1) == 0, \"((-1+0-1)*2 should equal 0\"\n",
    "\n",
    "    assert g(-1,0,1) == 0, \"((-1+0-1)*2 should equal 0\"\n",
    "\n",
    "    assert g(x=1,y=2,z=3) == 12, \"((1+2+3)*2 should equal 12\"\n",
    "\n",
    "    assert g(1,y=2,z=3) == 12, \"((1+2+3)*2 should equal 12\""
   ]
  },
  {
   "cell_type": "markdown",
   "metadata": {},
   "source": [
    "Zum [Inhaltsverzeichnis](#InhaltsverzeichnisVZ)"
   ]
  },
  {
   "cell_type": "markdown",
   "metadata": {},
   "source": [
    "**Übungsaufgabe 4 (Decorator)**: Modifizieren Sie den Decorator *decorator_with_arguments* aus *A Crash Course in Python 3* so, dass er auf beliebige Funktionen mit beliebigen Argumenten angewendet werden kann.\n",
    "\n",
    "Wenden sie diesen dann auf folgende Funktionen an:\n",
    "\n",
    "    def tester1():\n",
    "        print(\"tester1: Ich habe keine Argumente\")\n",
    "    \n",
    "    def tester2(ag1):\n",
    "        print(\"tester2: {0}\".format(ag1))\n",
    "    \n",
    "    def tester3(ag1,ag2,ag3):\n",
    "        print(\"tester3: {0}, {1}, {2}\".format(ag1,ag2,ag3))\n",
    "    \n",
    "Testen Sie die Funktionen wie folgt:\n",
    "\n",
    "    tester1()          \n",
    "    tester2(\"a\")\n",
    "    tester2(1)\n",
    "    tester3(1, ag2=\"Ich bin ein String\", ag3=[1,2,[3]])"
   ]
  },
  {
   "cell_type": "markdown",
   "metadata": {},
   "source": [
    "Zum [Inhaltsverzeichnis](#InhaltsverzeichnisVZ)"
   ]
  },
  {
   "cell_type": "markdown",
   "metadata": {},
   "source": [
    "**Übungsaufgabe 5 (\"with\"-Statement )**: Betrachten Sie folgende Kode:\n",
    "\n",
    "    appender = open('datei.txt', mode = 'a')\n",
    "    appender.write('Ein Eintrag in die Datei!')\n",
    "    appender.close()\n",
    "    \n",
    "Hier wird eine Datei geöffnet, um an ihr Ende etwas anzufügen. Dies passiert danach mit der Methode write. Danach wird die Datei wieder geschlossen. \n",
    "\n",
    "Wenn Sie kurz über den Kode nachdenken, fallen Ihnen sicher zwei Probleme auf:\n",
    "1. Was passiert, wenn sich die Datei nicht öffnen oder beschreiben lässt, z.B. aufgrund von Zugriffsbeschränkungen. Dann wird wohl eine Exception ausgelöst, die hier nicht weiter behandelt wird (z.B. ein *PermissionError*).\n",
    "2. Was passiert, wenn das Schreiben in die Datei fehlschlägt. Auch dann wird wohl eine Exception ausgelöst, die hier nicht weiter behandelt wird. Außerdem wird die Datei nicht wieder ordnungsgemäß geschlossen (unter folgendem Link können Sie nachlesen, warum es in Python wichtig ist, Dateien wieder zu schließen: https://realpython.com/why-close-file-python/)\n",
    "\n",
    "All diese Probleme lassen sich natürlich durch \"*try: ... except: ... finaly ...*\"-Blöcke lösen. Allerdings müsste man diese an jeder Stelle, an der eine Datei derart behandelt wird, einfügen. Dies widerspricht dem Prinip \"Don't repeat yourself\". Um den Umgang mit solchen Situationen zu vereinfachen gibt es insbesondere für das 2. Problem in Python das *with*-Statement bzw. sogenannte Context Manager, die von einem *with*-Statement verwendet werden.\n",
    "\n",
    "Ihre Aufgaben sind es nun:\n",
    "\n",
    "1. Schreiben Sie den Kode derart um, dass das Problem des nicht ordnungsgemässen Schliessens der Datei gelöst wird. Verwenden Sie hierzu ein *with*-Statement. In Crashkurs wurden *with*-Statements und Context Manager nicht behandelt. Wenn Sie mit diesen Python-Konzepten nicht vertraut sind, recherchieren Sie bitte eigenständig.\n",
    "2. In Ihrer Lösung zu Teil 1 haben Sie aller Wahrscheinlichkeit nach einen von Python zur Verfügung gestellten Context Manager verwendet. Das soll nun geändert werden. Sie sollen selber einen Contex Mangager mit dem Namen *DateiAppender* schreiben, der einerseits die Aufgaben des vorher von Ihnen verwendeten Contex Mangagers erfüllt und zusätzlich beim Eintritt in den Kontext \"Betrete Kontext\" und beim Austritt aus dem Kontext \"Verlasse Kontext\" ausgibt. Testen Sie Ihre Klasse *DateiAppender* mittels eines *with*-Statements, mit dem der Satz \"Ist das nun das Ende?\" an den Inhalt der Datei *datei.txt* angehängt wird.\n",
    "3. In Teil 2 haben Sie eine Klasse (nämlich einen Contex Mangager) implementiert, um die gefragte Funktionalität zur Verfügung zu stellen. Es gibt aber in Python auch die Möglichkeit, das selbe alleine durch die  Definition einer  Funktion zu erreichen - nennen wir diese in unserem Fall mal *datei_appender*. Hierzu benötigt man die Pythonklasse *contextmanager* aus dem Modul *contextlib* als Decorator für die zu schreibende Funktion. Außerdem muss die zu schreibende Funktion ein Generator sein, der ein *yield* enthält. Ihre Aufgabe: Implementieren Sie die Fu8nktion *datei_appender*. Sie werden sehen, dass Sie sich Boilerplate-Code im Vergleich zur Lösung aus Teil 2 sparen können, der resultierende Code aber nur verständlich ist, wenn man Kenntnis fortgeschrittener Python-Konzept wie Context Manager oder Decorator hat. Testen Sie Ihre Funktion *datei_appender* mittels eines *with*-Statements, mit dem der Satz \"Das Ende ist fern\" an den Inhalt der Datei *datei.txt* angehängt wird."
   ]
  },
  {
   "cell_type": "markdown",
   "metadata": {},
   "source": [
    "**Übungsaufgabe 6 (statische Methoden)**:\n",
    "Betrachten Sie den nachstehenden Code. Erkären Sie die unterschiedlichen Ausgaben der Methoden."
   ]
  },
  {
   "cell_type": "code",
   "execution_count": 120,
   "metadata": {},
   "outputs": [
    {
     "name": "stdout",
     "output_type": "stream",
     "text": [
      "Aufruf von static_method: ()\n",
      "Aufruf von class_method: (<class '__main__.Example'>,)\n"
     ]
    }
   ],
   "source": [
    "class Example():\n",
    "    \n",
    "    @staticmethod\n",
    "    def static_method(*args):\n",
    "        return args\n",
    "    \n",
    "    @classmethod\n",
    "    def class_method(*args):\n",
    "        return args\n",
    "\n",
    "obj = Example()\n",
    "\n",
    "print('Aufruf von static_method:',obj.static_method())\n",
    "print('Aufruf von class_method:',obj.class_method())"
   ]
  },
  {
   "cell_type": "code",
   "execution_count": null,
   "metadata": {},
   "outputs": [],
   "source": []
  }
 ],
 "metadata": {
  "kernelspec": {
   "display_name": "Python 3 (ipykernel)",
   "language": "python",
   "name": "python3"
  },
  "language_info": {
   "codemirror_mode": {
    "name": "ipython",
    "version": 3
   },
   "file_extension": ".py",
   "mimetype": "text/x-python",
   "name": "python",
   "nbconvert_exporter": "python",
   "pygments_lexer": "ipython3",
   "version": "3.9.12"
  }
 },
 "nbformat": 4,
 "nbformat_minor": 4
}
